{
 "cells": [
  {
   "cell_type": "code",
   "execution_count": 1,
   "id": "6e009b17",
   "metadata": {
    "_cell_guid": "b1076dfc-b9ad-4769-8c92-a6c4dae69d19",
    "_uuid": "8f2839f25d086af736a60e9eeb907d3b93b6e0e5",
    "execution": {
     "iopub.execute_input": "2024-07-21T09:50:59.071837Z",
     "iopub.status.busy": "2024-07-21T09:50:59.071412Z",
     "iopub.status.idle": "2024-07-21T09:50:59.928375Z",
     "shell.execute_reply": "2024-07-21T09:50:59.927261Z"
    },
    "papermill": {
     "duration": 0.869485,
     "end_time": "2024-07-21T09:50:59.930812",
     "exception": false,
     "start_time": "2024-07-21T09:50:59.061327",
     "status": "completed"
    },
    "tags": []
   },
   "outputs": [
    {
     "name": "stdout",
     "output_type": "stream",
     "text": [
      "/kaggle/input/bricsdataset/brics.csv\n",
      "/kaggle/input/carsdataset/cars.csv\n"
     ]
    }
   ],
   "source": [
    "import numpy as np\n",
    "import pandas as pd \n",
    "import os\n",
    "for dirname, _, filenames in os.walk('/kaggle/input'):\n",
    "    for filename in filenames:\n",
    "        print(os.path.join(dirname, filename))"
   ]
  },
  {
   "cell_type": "markdown",
   "id": "2c3a6723",
   "metadata": {
    "papermill": {
     "duration": 0.007888,
     "end_time": "2024-07-21T09:50:59.947157",
     "exception": false,
     "start_time": "2024-07-21T09:50:59.939269",
     "status": "completed"
    },
    "tags": []
   },
   "source": [
    "# Motivation for Dictionaries\n",
    "To see why dictionaries are useful, have a look at the two lists defined in the script.\n",
    "countries contains the names of some European countries. capitals lists the corresponding names of\n",
    "their capital."
   ]
  },
  {
   "cell_type": "code",
   "execution_count": 2,
   "id": "fe6557ea",
   "metadata": {
    "execution": {
     "iopub.execute_input": "2024-07-21T09:50:59.965329Z",
     "iopub.status.busy": "2024-07-21T09:50:59.964802Z",
     "iopub.status.idle": "2024-07-21T09:50:59.970873Z",
     "shell.execute_reply": "2024-07-21T09:50:59.969871Z"
    },
    "papermill": {
     "duration": 0.018153,
     "end_time": "2024-07-21T09:50:59.973480",
     "exception": false,
     "start_time": "2024-07-21T09:50:59.955327",
     "status": "completed"
    },
    "tags": []
   },
   "outputs": [
    {
     "name": "stdout",
     "output_type": "stream",
     "text": [
      "berlin\n"
     ]
    }
   ],
   "source": [
    "\n",
    "# Definition of countries and capital\n",
    "countries = ['spain', 'france', 'germany', 'norway']\n",
    "capitals = ['madrid', 'paris', 'berlin', 'oslo']\n",
    "\n",
    "# Get index of 'germany': ind_ger\n",
    "ind_ger=countries.index('germany')\n",
    "\n",
    "# Use ind_ger to print out capital of Germany\n",
    "print(capitals[ind_ger])"
   ]
  },
  {
   "cell_type": "markdown",
   "id": "cc7625f8",
   "metadata": {
    "papermill": {
     "duration": 0.008139,
     "end_time": "2024-07-21T09:50:59.990005",
     "exception": false,
     "start_time": "2024-07-21T09:50:59.981866",
     "status": "completed"
    },
    "tags": []
   },
   "source": [
    "# Create Dictionary"
   ]
  },
  {
   "cell_type": "code",
   "execution_count": 3,
   "id": "c08ecfb9",
   "metadata": {
    "execution": {
     "iopub.execute_input": "2024-07-21T09:51:00.008451Z",
     "iopub.status.busy": "2024-07-21T09:51:00.008086Z",
     "iopub.status.idle": "2024-07-21T09:51:00.016293Z",
     "shell.execute_reply": "2024-07-21T09:51:00.015032Z"
    },
    "papermill": {
     "duration": 0.019949,
     "end_time": "2024-07-21T09:51:00.018518",
     "exception": false,
     "start_time": "2024-07-21T09:50:59.998569",
     "status": "completed"
    },
    "tags": []
   },
   "outputs": [
    {
     "name": "stdout",
     "output_type": "stream",
     "text": [
      "{'spain': 'madrid', 'france': 'paris', 'germany': 'berlin', 'norway': 'oslo'}\n"
     ]
    }
   ],
   "source": [
    "# Definition of countries and capital\n",
    "countries = ['spain', 'france', 'germany', 'norway']\n",
    "capitals = ['madrid', 'paris', 'berlin', 'oslo']\n",
    "\n",
    "# From string in countries and capitals, create dictionary europe\n",
    "europe = {'spain':'madrid', 'france':'paris', 'germany':'berlin', 'norway':'oslo' }\n",
    "\n",
    "# Print europe\n",
    "print(europe)"
   ]
  },
  {
   "cell_type": "markdown",
   "id": "ebad7f46",
   "metadata": {
    "papermill": {
     "duration": 0.0081,
     "end_time": "2024-07-21T09:51:00.035287",
     "exception": false,
     "start_time": "2024-07-21T09:51:00.027187",
     "status": "completed"
    },
    "tags": []
   },
   "source": [
    "# Access Dictionary"
   ]
  },
  {
   "cell_type": "code",
   "execution_count": 4,
   "id": "67ae162e",
   "metadata": {
    "execution": {
     "iopub.execute_input": "2024-07-21T09:51:00.053955Z",
     "iopub.status.busy": "2024-07-21T09:51:00.053217Z",
     "iopub.status.idle": "2024-07-21T09:51:00.058993Z",
     "shell.execute_reply": "2024-07-21T09:51:00.057868Z"
    },
    "papermill": {
     "duration": 0.017795,
     "end_time": "2024-07-21T09:51:00.061468",
     "exception": false,
     "start_time": "2024-07-21T09:51:00.043673",
     "status": "completed"
    },
    "tags": []
   },
   "outputs": [
    {
     "name": "stdout",
     "output_type": "stream",
     "text": [
      "dict_keys(['spain', 'france', 'germany', 'norway'])\n",
      "oslo\n"
     ]
    }
   ],
   "source": [
    "# Definition of dictionary\n",
    "europe = {'spain':'madrid', 'france':'paris', 'germany':'berlin', 'norway':'oslo' }\n",
    "\n",
    "# Print out the keys in europe\n",
    "print(europe.keys())\n",
    "\n",
    "# Print out value that belongs to key 'norway'\n",
    "print(europe['norway'])"
   ]
  },
  {
   "cell_type": "markdown",
   "id": "74cd78df",
   "metadata": {
    "papermill": {
     "duration": 0.008104,
     "end_time": "2024-07-21T09:51:00.078936",
     "exception": false,
     "start_time": "2024-07-21T09:51:00.070832",
     "status": "completed"
    },
    "tags": []
   },
   "source": [
    "# Dictionary Manipulation-1"
   ]
  },
  {
   "cell_type": "code",
   "execution_count": 5,
   "id": "576707e1",
   "metadata": {
    "execution": {
     "iopub.execute_input": "2024-07-21T09:51:00.098125Z",
     "iopub.status.busy": "2024-07-21T09:51:00.097207Z",
     "iopub.status.idle": "2024-07-21T09:51:00.103159Z",
     "shell.execute_reply": "2024-07-21T09:51:00.102193Z"
    },
    "papermill": {
     "duration": 0.018445,
     "end_time": "2024-07-21T09:51:00.105859",
     "exception": false,
     "start_time": "2024-07-21T09:51:00.087414",
     "status": "completed"
    },
    "tags": []
   },
   "outputs": [
    {
     "name": "stdout",
     "output_type": "stream",
     "text": [
      "True\n",
      "{'spain': 'madrid', 'france': 'paris', 'germany': 'berlin', 'norway': 'oslo', 'italy': 'rome', 'poland': 'warsaw'}\n"
     ]
    }
   ],
   "source": [
    "# Definition of dictionary\n",
    "europe = {'spain':'madrid', 'france':'paris', 'germany':'berlin', 'norway':'oslo' }\n",
    "\n",
    "# Add italy to europe\n",
    "europe['italy']= 'rome'\n",
    "\n",
    "# Print out italy in europe\n",
    "print('italy' in europe)\n",
    "\n",
    "# Add poland to europe\n",
    "europe['poland']='warsaw'\n",
    "\n",
    "# Print europe\n",
    "print(europe)"
   ]
  },
  {
   "cell_type": "markdown",
   "id": "00bb8fb4",
   "metadata": {
    "papermill": {
     "duration": 0.008328,
     "end_time": "2024-07-21T09:51:00.122671",
     "exception": false,
     "start_time": "2024-07-21T09:51:00.114343",
     "status": "completed"
    },
    "tags": []
   },
   "source": [
    "# Dictionary Manipulation-2"
   ]
  },
  {
   "cell_type": "code",
   "execution_count": 6,
   "id": "37893bba",
   "metadata": {
    "execution": {
     "iopub.execute_input": "2024-07-21T09:51:00.141175Z",
     "iopub.status.busy": "2024-07-21T09:51:00.140812Z",
     "iopub.status.idle": "2024-07-21T09:51:00.147060Z",
     "shell.execute_reply": "2024-07-21T09:51:00.145990Z"
    },
    "papermill": {
     "duration": 0.018428,
     "end_time": "2024-07-21T09:51:00.149662",
     "exception": false,
     "start_time": "2024-07-21T09:51:00.131234",
     "status": "completed"
    },
    "tags": []
   },
   "outputs": [
    {
     "name": "stdout",
     "output_type": "stream",
     "text": [
      "{'spain': 'madrid', 'france': 'paris', 'germany': 'berlin', 'norway': 'oslo', 'italy': 'rome', 'poland': 'warsaw'}\n"
     ]
    }
   ],
   "source": [
    "# Definition of dictionary\n",
    "europe = {'spain':'madrid', 'france':'paris', 'germany':'bonn',\n",
    "          'norway':'oslo', 'italy':'rome', 'poland':'warsaw',\n",
    "          'australia':'vienna' }\n",
    "\n",
    "# Update capital of germany\n",
    "europe['germany']='berlin'\n",
    "\n",
    "# Remove australia\n",
    "del europe['australia']\n",
    "\n",
    "# Print europe\n",
    "print(europe)"
   ]
  },
  {
   "cell_type": "markdown",
   "id": "7e00fa1b",
   "metadata": {
    "papermill": {
     "duration": 0.008286,
     "end_time": "2024-07-21T09:51:00.166781",
     "exception": false,
     "start_time": "2024-07-21T09:51:00.158495",
     "status": "completed"
    },
    "tags": []
   },
   "source": [
    "# Dictionariception"
   ]
  },
  {
   "cell_type": "code",
   "execution_count": 7,
   "id": "5475baf8",
   "metadata": {
    "execution": {
     "iopub.execute_input": "2024-07-21T09:51:00.185818Z",
     "iopub.status.busy": "2024-07-21T09:51:00.185441Z",
     "iopub.status.idle": "2024-07-21T09:51:00.192728Z",
     "shell.execute_reply": "2024-07-21T09:51:00.191576Z"
    },
    "papermill": {
     "duration": 0.019488,
     "end_time": "2024-07-21T09:51:00.195043",
     "exception": false,
     "start_time": "2024-07-21T09:51:00.175555",
     "status": "completed"
    },
    "tags": []
   },
   "outputs": [
    {
     "name": "stdout",
     "output_type": "stream",
     "text": [
      "paris\n",
      "{'spain': {'capital': 'madrid', 'population': 46.77}, 'france': {'capital': 'paris', 'population': 66.03}, 'germany': {'capital': 'berlin', 'population': 80.62}, 'norway': {'capital': 'oslo', 'population': 5.084}, 'italy': {'capital': 'rome', 'population': 59.83}}\n"
     ]
    }
   ],
   "source": [
    "# Dictionary of dictionaries\n",
    "europe = { 'spain': { 'capital':'madrid', 'population':46.77 },\n",
    "           'france': { 'capital':'paris', 'population':66.03 },\n",
    "           'germany': { 'capital':'berlin', 'population':80.62 },\n",
    "           'norway': { 'capital':'oslo', 'population':5.084 } }\n",
    "\n",
    "\n",
    "# Print out the capital of France\n",
    "print(europe['france']['capital'])\n",
    "\n",
    "# Create sub-dictionary data\n",
    "data={'capital':'rome', 'population':59.83}\n",
    "\n",
    "# Add data to europe under key 'italy'\n",
    "europe['italy']=data\n",
    "\n",
    "# Print europe\n",
    "print(europe)"
   ]
  },
  {
   "cell_type": "markdown",
   "id": "e1af31ba",
   "metadata": {
    "papermill": {
     "duration": 0.008403,
     "end_time": "2024-07-21T09:51:00.212148",
     "exception": false,
     "start_time": "2024-07-21T09:51:00.203745",
     "status": "completed"
    },
    "tags": []
   },
   "source": [
    "# Dictionary to DataFrame-1"
   ]
  },
  {
   "cell_type": "code",
   "execution_count": 8,
   "id": "7d31eede",
   "metadata": {
    "execution": {
     "iopub.execute_input": "2024-07-21T09:51:00.231064Z",
     "iopub.status.busy": "2024-07-21T09:51:00.230679Z",
     "iopub.status.idle": "2024-07-21T09:51:00.248611Z",
     "shell.execute_reply": "2024-07-21T09:51:00.247296Z"
    },
    "papermill": {
     "duration": 0.029965,
     "end_time": "2024-07-21T09:51:00.250929",
     "exception": false,
     "start_time": "2024-07-21T09:51:00.220964",
     "status": "completed"
    },
    "tags": []
   },
   "outputs": [
    {
     "name": "stdout",
     "output_type": "stream",
     "text": [
      "         country  drives_right  cars_per_cap\n",
      "0  United States          True           809\n",
      "1      Australia         False           731\n",
      "2          Japan         False           588\n",
      "3          India         False            18\n",
      "4         Russia          True           200\n",
      "5        Morocco          True            70\n",
      "6          Egypt          True            45\n"
     ]
    }
   ],
   "source": [
    "# Pre-defined lists\n",
    "names = ['United States', 'Australia', 'Japan', 'India', 'Russia', 'Morocco', 'Egypt']\n",
    "dr = [True, False, False, False, True, True, True]\n",
    "cpc = [809, 731, 588, 18, 200, 70, 45]\n",
    "\n",
    "# Create dictionary my_dict with three key:value pairs\n",
    "my_dict = {'country': names, 'drives_right': dr, 'cars_per_cap': cpc}\n",
    "\n",
    "# Build a DataFrame cars from my_dict\n",
    "cars = pd.DataFrame(my_dict)\n",
    "\n",
    "# Print cars\n",
    "print(cars)"
   ]
  },
  {
   "cell_type": "markdown",
   "id": "b4602fdc",
   "metadata": {
    "papermill": {
     "duration": 0.00843,
     "end_time": "2024-07-21T09:51:00.268317",
     "exception": false,
     "start_time": "2024-07-21T09:51:00.259887",
     "status": "completed"
    },
    "tags": []
   },
   "source": [
    "# Dictionary to DataFrame-2"
   ]
  },
  {
   "cell_type": "code",
   "execution_count": 9,
   "id": "4d73c0ee",
   "metadata": {
    "execution": {
     "iopub.execute_input": "2024-07-21T09:51:00.287521Z",
     "iopub.status.busy": "2024-07-21T09:51:00.287179Z",
     "iopub.status.idle": "2024-07-21T09:51:00.296874Z",
     "shell.execute_reply": "2024-07-21T09:51:00.295669Z"
    },
    "papermill": {
     "duration": 0.021907,
     "end_time": "2024-07-21T09:51:00.299206",
     "exception": false,
     "start_time": "2024-07-21T09:51:00.277299",
     "status": "completed"
    },
    "tags": []
   },
   "outputs": [
    {
     "name": "stdout",
     "output_type": "stream",
     "text": [
      "         country  drives_right  cars_per_cap\n",
      "0  United States          True           809\n",
      "1      Australia         False           731\n",
      "2          Japan         False           588\n",
      "3          India         False            18\n",
      "4         Russia          True           200\n",
      "5        Morocco          True            70\n",
      "6          Egypt          True            45\n"
     ]
    }
   ],
   "source": [
    "# Pre-defined lists\n",
    "names = ['United States', 'Australia', 'Japan', 'India', 'Russia', 'Morocco', 'Egypt']\n",
    "dr = [True, False, False, False, True, True, True]\n",
    "cpc = [809, 731, 588, 18, 200, 70, 45]\n",
    "\n",
    "# Create dictionary my_dict with three key:value pairs\n",
    "my_dict = {'country': names, 'drives_right': dr, 'cars_per_cap': cpc}\n",
    "\n",
    "# Build a DataFrame cars from my_dict\n",
    "cars = pd.DataFrame(my_dict)\n",
    "\n",
    "# Print cars\n",
    "print(cars)"
   ]
  },
  {
   "cell_type": "markdown",
   "id": "1183128f",
   "metadata": {
    "papermill": {
     "duration": 0.008508,
     "end_time": "2024-07-21T09:51:00.316639",
     "exception": false,
     "start_time": "2024-07-21T09:51:00.308131",
     "status": "completed"
    },
    "tags": []
   },
   "source": [
    "# CSV to DataFrame"
   ]
  },
  {
   "cell_type": "code",
   "execution_count": 10,
   "id": "84b305e0",
   "metadata": {
    "execution": {
     "iopub.execute_input": "2024-07-21T09:51:00.336533Z",
     "iopub.status.busy": "2024-07-21T09:51:00.336047Z",
     "iopub.status.idle": "2024-07-21T09:51:00.361239Z",
     "shell.execute_reply": "2024-07-21T09:51:00.360036Z"
    },
    "papermill": {
     "duration": 0.037915,
     "end_time": "2024-07-21T09:51:00.363834",
     "exception": false,
     "start_time": "2024-07-21T09:51:00.325919",
     "status": "completed"
    },
    "tags": []
   },
   "outputs": [
    {
     "name": "stdout",
     "output_type": "stream",
     "text": [
      "  Unnamed: 0  cars_per_cap        country  drives_right\n",
      "0         US           809  United States          True\n",
      "1        AUS           731      Australia         False\n",
      "2        JAP           588          Japan         False\n",
      "3         IN            18          India         False\n",
      "4         RU           200         Russia          True\n",
      "5        MOR            70        Morocco          True\n",
      "6         EG            45          Egypt          True\n",
      "----------------------------------------------------------------------\n",
      "     cars_per_cap        country  drives_right\n",
      "US            809  United States          True\n",
      "AUS           731      Australia         False\n",
      "JAP           588          Japan         False\n",
      "IN             18          India         False\n",
      "RU            200         Russia          True\n",
      "MOR            70        Morocco          True\n",
      "EG             45          Egypt          True\n"
     ]
    }
   ],
   "source": [
    "# Import the cars.csv data: cars\n",
    "cars=pd.read_csv(\"/kaggle/input/carsdataset/cars.csv\")\n",
    "\n",
    "# Print out cars\n",
    "print(cars)\n",
    "print(\"----------------------------------------------------------------------\")\n",
    "\n",
    "# Fix import by including index_col\n",
    "cars = pd.read_csv('/kaggle/input/carsdataset/cars.csv',index_col=0)\n",
    "\n",
    "# Print out cars\n",
    "print(cars)"
   ]
  },
  {
   "cell_type": "markdown",
   "id": "7c16698a",
   "metadata": {
    "papermill": {
     "duration": 0.008715,
     "end_time": "2024-07-21T09:51:00.382106",
     "exception": false,
     "start_time": "2024-07-21T09:51:00.373391",
     "status": "completed"
    },
    "tags": []
   },
   "source": [
    "# Colums Access"
   ]
  },
  {
   "cell_type": "code",
   "execution_count": 11,
   "id": "2546e447",
   "metadata": {
    "execution": {
     "iopub.execute_input": "2024-07-21T09:51:00.401919Z",
     "iopub.status.busy": "2024-07-21T09:51:00.401180Z",
     "iopub.status.idle": "2024-07-21T09:51:00.410899Z",
     "shell.execute_reply": "2024-07-21T09:51:00.409832Z"
    },
    "papermill": {
     "duration": 0.022131,
     "end_time": "2024-07-21T09:51:00.413275",
     "exception": false,
     "start_time": "2024-07-21T09:51:00.391144",
     "status": "completed"
    },
    "tags": []
   },
   "outputs": [],
   "source": [
    "brics=pd.read_csv('/kaggle/input/bricsdataset/brics.csv',index_col=0)"
   ]
  },
  {
   "cell_type": "code",
   "execution_count": 12,
   "id": "a47ff8de",
   "metadata": {
    "execution": {
     "iopub.execute_input": "2024-07-21T09:51:00.432696Z",
     "iopub.status.busy": "2024-07-21T09:51:00.432335Z",
     "iopub.status.idle": "2024-07-21T09:51:00.449136Z",
     "shell.execute_reply": "2024-07-21T09:51:00.448016Z"
    },
    "papermill": {
     "duration": 0.029251,
     "end_time": "2024-07-21T09:51:00.451553",
     "exception": false,
     "start_time": "2024-07-21T09:51:00.422302",
     "status": "completed"
    },
    "tags": []
   },
   "outputs": [
    {
     "data": {
      "text/html": [
       "<div>\n",
       "<style scoped>\n",
       "    .dataframe tbody tr th:only-of-type {\n",
       "        vertical-align: middle;\n",
       "    }\n",
       "\n",
       "    .dataframe tbody tr th {\n",
       "        vertical-align: top;\n",
       "    }\n",
       "\n",
       "    .dataframe thead th {\n",
       "        text-align: right;\n",
       "    }\n",
       "</style>\n",
       "<table border=\"1\" class=\"dataframe\">\n",
       "  <thead>\n",
       "    <tr style=\"text-align: right;\">\n",
       "      <th></th>\n",
       "      <th>country</th>\n",
       "    </tr>\n",
       "  </thead>\n",
       "  <tbody>\n",
       "    <tr>\n",
       "      <th>BR</th>\n",
       "      <td>Brazil</td>\n",
       "    </tr>\n",
       "    <tr>\n",
       "      <th>RU</th>\n",
       "      <td>Russia</td>\n",
       "    </tr>\n",
       "    <tr>\n",
       "      <th>IN</th>\n",
       "      <td>India</td>\n",
       "    </tr>\n",
       "    <tr>\n",
       "      <th>CH</th>\n",
       "      <td>China</td>\n",
       "    </tr>\n",
       "    <tr>\n",
       "      <th>SA</th>\n",
       "      <td>South Africa</td>\n",
       "    </tr>\n",
       "  </tbody>\n",
       "</table>\n",
       "</div>"
      ],
      "text/plain": [
       "         country\n",
       "BR        Brazil\n",
       "RU        Russia\n",
       "IN         India\n",
       "CH         China\n",
       "SA  South Africa"
      ]
     },
     "execution_count": 12,
     "metadata": {},
     "output_type": "execute_result"
    }
   ],
   "source": [
    "brics[[\"country\"]]"
   ]
  },
  {
   "cell_type": "code",
   "execution_count": 13,
   "id": "859913df",
   "metadata": {
    "execution": {
     "iopub.execute_input": "2024-07-21T09:51:00.471722Z",
     "iopub.status.busy": "2024-07-21T09:51:00.471336Z",
     "iopub.status.idle": "2024-07-21T09:51:00.478923Z",
     "shell.execute_reply": "2024-07-21T09:51:00.477848Z"
    },
    "papermill": {
     "duration": 0.020326,
     "end_time": "2024-07-21T09:51:00.481201",
     "exception": false,
     "start_time": "2024-07-21T09:51:00.460875",
     "status": "completed"
    },
    "tags": []
   },
   "outputs": [
    {
     "data": {
      "text/plain": [
       "pandas.core.frame.DataFrame"
      ]
     },
     "execution_count": 13,
     "metadata": {},
     "output_type": "execute_result"
    }
   ],
   "source": [
    "type(brics[[\"country\"]])"
   ]
  },
  {
   "cell_type": "code",
   "execution_count": 14,
   "id": "f9905cf1",
   "metadata": {
    "execution": {
     "iopub.execute_input": "2024-07-21T09:51:00.501686Z",
     "iopub.status.busy": "2024-07-21T09:51:00.501310Z",
     "iopub.status.idle": "2024-07-21T09:51:00.509133Z",
     "shell.execute_reply": "2024-07-21T09:51:00.508147Z"
    },
    "papermill": {
     "duration": 0.020432,
     "end_time": "2024-07-21T09:51:00.511230",
     "exception": false,
     "start_time": "2024-07-21T09:51:00.490798",
     "status": "completed"
    },
    "tags": []
   },
   "outputs": [
    {
     "data": {
      "text/plain": [
       "BR          Brazil\n",
       "RU          Russia\n",
       "IN           India\n",
       "CH           China\n",
       "SA    South Africa\n",
       "Name: country, dtype: object"
      ]
     },
     "execution_count": 14,
     "metadata": {},
     "output_type": "execute_result"
    }
   ],
   "source": [
    "brics['country']"
   ]
  },
  {
   "cell_type": "code",
   "execution_count": 15,
   "id": "096f923c",
   "metadata": {
    "execution": {
     "iopub.execute_input": "2024-07-21T09:51:00.531470Z",
     "iopub.status.busy": "2024-07-21T09:51:00.531098Z",
     "iopub.status.idle": "2024-07-21T09:51:00.537454Z",
     "shell.execute_reply": "2024-07-21T09:51:00.536515Z"
    },
    "papermill": {
     "duration": 0.018828,
     "end_time": "2024-07-21T09:51:00.539510",
     "exception": false,
     "start_time": "2024-07-21T09:51:00.520682",
     "status": "completed"
    },
    "tags": []
   },
   "outputs": [
    {
     "data": {
      "text/plain": [
       "pandas.core.series.Series"
      ]
     },
     "execution_count": 15,
     "metadata": {},
     "output_type": "execute_result"
    }
   ],
   "source": [
    "type(brics[\"country\"])"
   ]
  },
  {
   "cell_type": "code",
   "execution_count": 16,
   "id": "c0990292",
   "metadata": {
    "execution": {
     "iopub.execute_input": "2024-07-21T09:51:00.560105Z",
     "iopub.status.busy": "2024-07-21T09:51:00.559709Z",
     "iopub.status.idle": "2024-07-21T09:51:00.570661Z",
     "shell.execute_reply": "2024-07-21T09:51:00.569664Z"
    },
    "papermill": {
     "duration": 0.023671,
     "end_time": "2024-07-21T09:51:00.572750",
     "exception": false,
     "start_time": "2024-07-21T09:51:00.549079",
     "status": "completed"
    },
    "tags": []
   },
   "outputs": [
    {
     "data": {
      "text/html": [
       "<div>\n",
       "<style scoped>\n",
       "    .dataframe tbody tr th:only-of-type {\n",
       "        vertical-align: middle;\n",
       "    }\n",
       "\n",
       "    .dataframe tbody tr th {\n",
       "        vertical-align: top;\n",
       "    }\n",
       "\n",
       "    .dataframe thead th {\n",
       "        text-align: right;\n",
       "    }\n",
       "</style>\n",
       "<table border=\"1\" class=\"dataframe\">\n",
       "  <thead>\n",
       "    <tr style=\"text-align: right;\">\n",
       "      <th></th>\n",
       "      <th>country</th>\n",
       "      <th>capital</th>\n",
       "    </tr>\n",
       "  </thead>\n",
       "  <tbody>\n",
       "    <tr>\n",
       "      <th>BR</th>\n",
       "      <td>Brazil</td>\n",
       "      <td>Brasilia</td>\n",
       "    </tr>\n",
       "    <tr>\n",
       "      <th>RU</th>\n",
       "      <td>Russia</td>\n",
       "      <td>Moscow</td>\n",
       "    </tr>\n",
       "    <tr>\n",
       "      <th>IN</th>\n",
       "      <td>India</td>\n",
       "      <td>New Delhi</td>\n",
       "    </tr>\n",
       "    <tr>\n",
       "      <th>CH</th>\n",
       "      <td>China</td>\n",
       "      <td>Beijing</td>\n",
       "    </tr>\n",
       "    <tr>\n",
       "      <th>SA</th>\n",
       "      <td>South Africa</td>\n",
       "      <td>Pretoria</td>\n",
       "    </tr>\n",
       "  </tbody>\n",
       "</table>\n",
       "</div>"
      ],
      "text/plain": [
       "         country    capital\n",
       "BR        Brazil   Brasilia\n",
       "RU        Russia     Moscow\n",
       "IN         India  New Delhi\n",
       "CH         China    Beijing\n",
       "SA  South Africa   Pretoria"
      ]
     },
     "execution_count": 16,
     "metadata": {},
     "output_type": "execute_result"
    }
   ],
   "source": [
    "brics[['country', 'capital']]"
   ]
  },
  {
   "cell_type": "markdown",
   "id": "3a39404f",
   "metadata": {
    "papermill": {
     "duration": 0.009914,
     "end_time": "2024-07-21T09:51:00.592364",
     "exception": false,
     "start_time": "2024-07-21T09:51:00.582450",
     "status": "completed"
    },
    "tags": []
   },
   "source": [
    "# Row Access"
   ]
  },
  {
   "cell_type": "code",
   "execution_count": 17,
   "id": "b8537acb",
   "metadata": {
    "execution": {
     "iopub.execute_input": "2024-07-21T09:51:00.613509Z",
     "iopub.status.busy": "2024-07-21T09:51:00.613166Z",
     "iopub.status.idle": "2024-07-21T09:51:00.626843Z",
     "shell.execute_reply": "2024-07-21T09:51:00.625642Z"
    },
    "papermill": {
     "duration": 0.026945,
     "end_time": "2024-07-21T09:51:00.629048",
     "exception": false,
     "start_time": "2024-07-21T09:51:00.602103",
     "status": "completed"
    },
    "tags": []
   },
   "outputs": [
    {
     "data": {
      "text/html": [
       "<div>\n",
       "<style scoped>\n",
       "    .dataframe tbody tr th:only-of-type {\n",
       "        vertical-align: middle;\n",
       "    }\n",
       "\n",
       "    .dataframe tbody tr th {\n",
       "        vertical-align: top;\n",
       "    }\n",
       "\n",
       "    .dataframe thead th {\n",
       "        text-align: right;\n",
       "    }\n",
       "</style>\n",
       "<table border=\"1\" class=\"dataframe\">\n",
       "  <thead>\n",
       "    <tr style=\"text-align: right;\">\n",
       "      <th></th>\n",
       "      <th>country</th>\n",
       "      <th>capital</th>\n",
       "      <th>area</th>\n",
       "      <th>population</th>\n",
       "    </tr>\n",
       "  </thead>\n",
       "  <tbody>\n",
       "    <tr>\n",
       "      <th>RU</th>\n",
       "      <td>Russia</td>\n",
       "      <td>Moscow</td>\n",
       "      <td>17.100</td>\n",
       "      <td>143.5</td>\n",
       "    </tr>\n",
       "    <tr>\n",
       "      <th>IN</th>\n",
       "      <td>India</td>\n",
       "      <td>New Delhi</td>\n",
       "      <td>3.286</td>\n",
       "      <td>1252.0</td>\n",
       "    </tr>\n",
       "    <tr>\n",
       "      <th>CH</th>\n",
       "      <td>China</td>\n",
       "      <td>Beijing</td>\n",
       "      <td>9.597</td>\n",
       "      <td>1357.0</td>\n",
       "    </tr>\n",
       "  </tbody>\n",
       "</table>\n",
       "</div>"
      ],
      "text/plain": [
       "   country    capital    area  population\n",
       "RU  Russia     Moscow  17.100       143.5\n",
       "IN   India  New Delhi   3.286      1252.0\n",
       "CH   China    Beijing   9.597      1357.0"
      ]
     },
     "execution_count": 17,
     "metadata": {},
     "output_type": "execute_result"
    }
   ],
   "source": [
    "brics[1:4]"
   ]
  },
  {
   "cell_type": "markdown",
   "id": "a0b2d9ef",
   "metadata": {
    "papermill": {
     "duration": 0.009511,
     "end_time": "2024-07-21T09:51:00.648405",
     "exception": false,
     "start_time": "2024-07-21T09:51:00.638894",
     "status": "completed"
    },
    "tags": []
   },
   "source": [
    "# loc and iloc\n",
    "loc (label-based)\n",
    "iloc (integer position-based)"
   ]
  },
  {
   "cell_type": "code",
   "execution_count": 18,
   "id": "e9efc62c",
   "metadata": {
    "execution": {
     "iopub.execute_input": "2024-07-21T09:51:00.669402Z",
     "iopub.status.busy": "2024-07-21T09:51:00.669053Z",
     "iopub.status.idle": "2024-07-21T09:51:00.674357Z",
     "shell.execute_reply": "2024-07-21T09:51:00.673371Z"
    },
    "papermill": {
     "duration": 0.018818,
     "end_time": "2024-07-21T09:51:00.676998",
     "exception": false,
     "start_time": "2024-07-21T09:51:00.658180",
     "status": "completed"
    },
    "tags": []
   },
   "outputs": [
    {
     "name": "stdout",
     "output_type": "stream",
     "text": [
      "Index(['BR', 'RU', 'IN', 'CH', 'SA'], dtype='object')\n"
     ]
    }
   ],
   "source": [
    "print(brics.index)"
   ]
  },
  {
   "cell_type": "code",
   "execution_count": 19,
   "id": "06b895b1",
   "metadata": {
    "execution": {
     "iopub.execute_input": "2024-07-21T09:51:00.699372Z",
     "iopub.status.busy": "2024-07-21T09:51:00.698933Z",
     "iopub.status.idle": "2024-07-21T09:51:00.706927Z",
     "shell.execute_reply": "2024-07-21T09:51:00.705930Z"
    },
    "papermill": {
     "duration": 0.021729,
     "end_time": "2024-07-21T09:51:00.709234",
     "exception": false,
     "start_time": "2024-07-21T09:51:00.687505",
     "status": "completed"
    },
    "tags": []
   },
   "outputs": [
    {
     "data": {
      "text/plain": [
       "country       Russia\n",
       "capital       Moscow\n",
       "area            17.1\n",
       "population     143.5\n",
       "Name: RU, dtype: object"
      ]
     },
     "execution_count": 19,
     "metadata": {},
     "output_type": "execute_result"
    }
   ],
   "source": [
    "brics.loc[\"RU\"] #type: series"
   ]
  },
  {
   "cell_type": "code",
   "execution_count": 20,
   "id": "b1fe92c0",
   "metadata": {
    "execution": {
     "iopub.execute_input": "2024-07-21T09:51:00.731873Z",
     "iopub.status.busy": "2024-07-21T09:51:00.730827Z",
     "iopub.status.idle": "2024-07-21T09:51:00.747186Z",
     "shell.execute_reply": "2024-07-21T09:51:00.746140Z"
    },
    "papermill": {
     "duration": 0.029881,
     "end_time": "2024-07-21T09:51:00.749223",
     "exception": false,
     "start_time": "2024-07-21T09:51:00.719342",
     "status": "completed"
    },
    "tags": []
   },
   "outputs": [
    {
     "data": {
      "text/html": [
       "<div>\n",
       "<style scoped>\n",
       "    .dataframe tbody tr th:only-of-type {\n",
       "        vertical-align: middle;\n",
       "    }\n",
       "\n",
       "    .dataframe tbody tr th {\n",
       "        vertical-align: top;\n",
       "    }\n",
       "\n",
       "    .dataframe thead th {\n",
       "        text-align: right;\n",
       "    }\n",
       "</style>\n",
       "<table border=\"1\" class=\"dataframe\">\n",
       "  <thead>\n",
       "    <tr style=\"text-align: right;\">\n",
       "      <th></th>\n",
       "      <th>country</th>\n",
       "      <th>capital</th>\n",
       "      <th>area</th>\n",
       "      <th>population</th>\n",
       "    </tr>\n",
       "  </thead>\n",
       "  <tbody>\n",
       "    <tr>\n",
       "      <th>RU</th>\n",
       "      <td>Russia</td>\n",
       "      <td>Moscow</td>\n",
       "      <td>17.1</td>\n",
       "      <td>143.5</td>\n",
       "    </tr>\n",
       "  </tbody>\n",
       "</table>\n",
       "</div>"
      ],
      "text/plain": [
       "   country capital  area  population\n",
       "RU  Russia  Moscow  17.1       143.5"
      ]
     },
     "execution_count": 20,
     "metadata": {},
     "output_type": "execute_result"
    }
   ],
   "source": [
    "# selected one row\n",
    "brics.loc[[\"RU\"]] #type: dataframe"
   ]
  },
  {
   "cell_type": "code",
   "execution_count": 21,
   "id": "72fdb02e",
   "metadata": {
    "execution": {
     "iopub.execute_input": "2024-07-21T09:51:00.771699Z",
     "iopub.status.busy": "2024-07-21T09:51:00.771354Z",
     "iopub.status.idle": "2024-07-21T09:51:00.783633Z",
     "shell.execute_reply": "2024-07-21T09:51:00.782532Z"
    },
    "papermill": {
     "duration": 0.026299,
     "end_time": "2024-07-21T09:51:00.785787",
     "exception": false,
     "start_time": "2024-07-21T09:51:00.759488",
     "status": "completed"
    },
    "tags": []
   },
   "outputs": [
    {
     "data": {
      "text/html": [
       "<div>\n",
       "<style scoped>\n",
       "    .dataframe tbody tr th:only-of-type {\n",
       "        vertical-align: middle;\n",
       "    }\n",
       "\n",
       "    .dataframe tbody tr th {\n",
       "        vertical-align: top;\n",
       "    }\n",
       "\n",
       "    .dataframe thead th {\n",
       "        text-align: right;\n",
       "    }\n",
       "</style>\n",
       "<table border=\"1\" class=\"dataframe\">\n",
       "  <thead>\n",
       "    <tr style=\"text-align: right;\">\n",
       "      <th></th>\n",
       "      <th>country</th>\n",
       "      <th>capital</th>\n",
       "      <th>area</th>\n",
       "      <th>population</th>\n",
       "    </tr>\n",
       "  </thead>\n",
       "  <tbody>\n",
       "    <tr>\n",
       "      <th>RU</th>\n",
       "      <td>Russia</td>\n",
       "      <td>Moscow</td>\n",
       "      <td>17.100</td>\n",
       "      <td>143.5</td>\n",
       "    </tr>\n",
       "    <tr>\n",
       "      <th>IN</th>\n",
       "      <td>India</td>\n",
       "      <td>New Delhi</td>\n",
       "      <td>3.286</td>\n",
       "      <td>1252.0</td>\n",
       "    </tr>\n",
       "    <tr>\n",
       "      <th>CH</th>\n",
       "      <td>China</td>\n",
       "      <td>Beijing</td>\n",
       "      <td>9.597</td>\n",
       "      <td>1357.0</td>\n",
       "    </tr>\n",
       "  </tbody>\n",
       "</table>\n",
       "</div>"
      ],
      "text/plain": [
       "   country    capital    area  population\n",
       "RU  Russia     Moscow  17.100       143.5\n",
       "IN   India  New Delhi   3.286      1252.0\n",
       "CH   China    Beijing   9.597      1357.0"
      ]
     },
     "execution_count": 21,
     "metadata": {},
     "output_type": "execute_result"
    }
   ],
   "source": [
    "#selected rows and all columns\n",
    "brics.loc[[\"RU\",\"IN\",\"CH\"]]"
   ]
  },
  {
   "cell_type": "code",
   "execution_count": 22,
   "id": "8796d755",
   "metadata": {
    "execution": {
     "iopub.execute_input": "2024-07-21T09:51:00.808864Z",
     "iopub.status.busy": "2024-07-21T09:51:00.807899Z",
     "iopub.status.idle": "2024-07-21T09:51:00.819408Z",
     "shell.execute_reply": "2024-07-21T09:51:00.818285Z"
    },
    "papermill": {
     "duration": 0.025336,
     "end_time": "2024-07-21T09:51:00.821664",
     "exception": false,
     "start_time": "2024-07-21T09:51:00.796328",
     "status": "completed"
    },
    "tags": []
   },
   "outputs": [
    {
     "data": {
      "text/html": [
       "<div>\n",
       "<style scoped>\n",
       "    .dataframe tbody tr th:only-of-type {\n",
       "        vertical-align: middle;\n",
       "    }\n",
       "\n",
       "    .dataframe tbody tr th {\n",
       "        vertical-align: top;\n",
       "    }\n",
       "\n",
       "    .dataframe thead th {\n",
       "        text-align: right;\n",
       "    }\n",
       "</style>\n",
       "<table border=\"1\" class=\"dataframe\">\n",
       "  <thead>\n",
       "    <tr style=\"text-align: right;\">\n",
       "      <th></th>\n",
       "      <th>country</th>\n",
       "      <th>capital</th>\n",
       "    </tr>\n",
       "  </thead>\n",
       "  <tbody>\n",
       "    <tr>\n",
       "      <th>RU</th>\n",
       "      <td>Russia</td>\n",
       "      <td>Moscow</td>\n",
       "    </tr>\n",
       "    <tr>\n",
       "      <th>IN</th>\n",
       "      <td>India</td>\n",
       "      <td>New Delhi</td>\n",
       "    </tr>\n",
       "    <tr>\n",
       "      <th>CH</th>\n",
       "      <td>China</td>\n",
       "      <td>Beijing</td>\n",
       "    </tr>\n",
       "  </tbody>\n",
       "</table>\n",
       "</div>"
      ],
      "text/plain": [
       "   country    capital\n",
       "RU  Russia     Moscow\n",
       "IN   India  New Delhi\n",
       "CH   China    Beijing"
      ]
     },
     "execution_count": 22,
     "metadata": {},
     "output_type": "execute_result"
    }
   ],
   "source": [
    "#selected rows and selected columns\n",
    "brics.loc[[\"RU\",\"IN\",\"CH\"],[\"country\",\"capital\"]]"
   ]
  },
  {
   "cell_type": "code",
   "execution_count": 23,
   "id": "a7b72b74",
   "metadata": {
    "execution": {
     "iopub.execute_input": "2024-07-21T09:51:00.844716Z",
     "iopub.status.busy": "2024-07-21T09:51:00.844023Z",
     "iopub.status.idle": "2024-07-21T09:51:00.854985Z",
     "shell.execute_reply": "2024-07-21T09:51:00.853897Z"
    },
    "papermill": {
     "duration": 0.02474,
     "end_time": "2024-07-21T09:51:00.857118",
     "exception": false,
     "start_time": "2024-07-21T09:51:00.832378",
     "status": "completed"
    },
    "tags": []
   },
   "outputs": [
    {
     "data": {
      "text/html": [
       "<div>\n",
       "<style scoped>\n",
       "    .dataframe tbody tr th:only-of-type {\n",
       "        vertical-align: middle;\n",
       "    }\n",
       "\n",
       "    .dataframe tbody tr th {\n",
       "        vertical-align: top;\n",
       "    }\n",
       "\n",
       "    .dataframe thead th {\n",
       "        text-align: right;\n",
       "    }\n",
       "</style>\n",
       "<table border=\"1\" class=\"dataframe\">\n",
       "  <thead>\n",
       "    <tr style=\"text-align: right;\">\n",
       "      <th></th>\n",
       "      <th>country</th>\n",
       "      <th>capital</th>\n",
       "    </tr>\n",
       "  </thead>\n",
       "  <tbody>\n",
       "    <tr>\n",
       "      <th>BR</th>\n",
       "      <td>Brazil</td>\n",
       "      <td>Brasilia</td>\n",
       "    </tr>\n",
       "    <tr>\n",
       "      <th>RU</th>\n",
       "      <td>Russia</td>\n",
       "      <td>Moscow</td>\n",
       "    </tr>\n",
       "    <tr>\n",
       "      <th>IN</th>\n",
       "      <td>India</td>\n",
       "      <td>New Delhi</td>\n",
       "    </tr>\n",
       "    <tr>\n",
       "      <th>CH</th>\n",
       "      <td>China</td>\n",
       "      <td>Beijing</td>\n",
       "    </tr>\n",
       "    <tr>\n",
       "      <th>SA</th>\n",
       "      <td>South Africa</td>\n",
       "      <td>Pretoria</td>\n",
       "    </tr>\n",
       "  </tbody>\n",
       "</table>\n",
       "</div>"
      ],
      "text/plain": [
       "         country    capital\n",
       "BR        Brazil   Brasilia\n",
       "RU        Russia     Moscow\n",
       "IN         India  New Delhi\n",
       "CH         China    Beijing\n",
       "SA  South Africa   Pretoria"
      ]
     },
     "execution_count": 23,
     "metadata": {},
     "output_type": "execute_result"
    }
   ],
   "source": [
    "# all rows and only two column\n",
    "brics.loc[:, [\"country\",\"capital\"]]"
   ]
  },
  {
   "cell_type": "markdown",
   "id": "c09aa1e5",
   "metadata": {
    "papermill": {
     "duration": 0.010108,
     "end_time": "2024-07-21T09:51:00.877833",
     "exception": false,
     "start_time": "2024-07-21T09:51:00.867725",
     "status": "completed"
    },
    "tags": []
   },
   "source": [
    "# loc vs. iloc"
   ]
  },
  {
   "cell_type": "code",
   "execution_count": 24,
   "id": "305833c6",
   "metadata": {
    "execution": {
     "iopub.execute_input": "2024-07-21T09:51:00.900841Z",
     "iopub.status.busy": "2024-07-21T09:51:00.900465Z",
     "iopub.status.idle": "2024-07-21T09:51:00.911085Z",
     "shell.execute_reply": "2024-07-21T09:51:00.909987Z"
    },
    "papermill": {
     "duration": 0.024853,
     "end_time": "2024-07-21T09:51:00.913531",
     "exception": false,
     "start_time": "2024-07-21T09:51:00.888678",
     "status": "completed"
    },
    "tags": []
   },
   "outputs": [
    {
     "name": "stdout",
     "output_type": "stream",
     "text": [
      "   country capital  area  population\n",
      "RU  Russia  Moscow  17.1       143.5\n",
      "--------------------------------------------\n",
      "   country capital  area  population\n",
      "RU  Russia  Moscow  17.1       143.5\n"
     ]
    }
   ],
   "source": [
    "print(brics.loc[[\"RU\"]])\n",
    "print(\"--------------------------------------------\")\n",
    "print(brics.iloc[[1]])"
   ]
  },
  {
   "cell_type": "code",
   "execution_count": 25,
   "id": "7819bcb6",
   "metadata": {
    "execution": {
     "iopub.execute_input": "2024-07-21T09:51:00.936797Z",
     "iopub.status.busy": "2024-07-21T09:51:00.936443Z",
     "iopub.status.idle": "2024-07-21T09:51:00.947874Z",
     "shell.execute_reply": "2024-07-21T09:51:00.946842Z"
    },
    "papermill": {
     "duration": 0.025605,
     "end_time": "2024-07-21T09:51:00.950301",
     "exception": false,
     "start_time": "2024-07-21T09:51:00.924696",
     "status": "completed"
    },
    "tags": []
   },
   "outputs": [
    {
     "name": "stdout",
     "output_type": "stream",
     "text": [
      "   country    capital    area  population\n",
      "RU  Russia     Moscow  17.100       143.5\n",
      "IN   India  New Delhi   3.286      1252.0\n",
      "CH   China    Beijing   9.597      1357.0\n",
      "-----------------------------------------------\n",
      "   country    capital    area  population\n",
      "RU  Russia     Moscow  17.100       143.5\n",
      "IN   India  New Delhi   3.286      1252.0\n",
      "CH   China    Beijing   9.597      1357.0\n"
     ]
    }
   ],
   "source": [
    "print(brics.loc[[\"RU\",\"IN\",\"CH\"]])\n",
    "print(\"-----------------------------------------------\")\n",
    "print(brics.iloc[[1,2,3]])"
   ]
  },
  {
   "cell_type": "code",
   "execution_count": 26,
   "id": "6876eacf",
   "metadata": {
    "execution": {
     "iopub.execute_input": "2024-07-21T09:51:00.973527Z",
     "iopub.status.busy": "2024-07-21T09:51:00.973162Z",
     "iopub.status.idle": "2024-07-21T09:51:00.985005Z",
     "shell.execute_reply": "2024-07-21T09:51:00.984000Z"
    },
    "papermill": {
     "duration": 0.026077,
     "end_time": "2024-07-21T09:51:00.987243",
     "exception": false,
     "start_time": "2024-07-21T09:51:00.961166",
     "status": "completed"
    },
    "tags": []
   },
   "outputs": [
    {
     "name": "stdout",
     "output_type": "stream",
     "text": [
      "   country    capital\n",
      "RU  Russia     Moscow\n",
      "IN   India  New Delhi\n",
      "CH   China    Beijing\n",
      "--------------------------------------------------------------\n",
      "   country    capital\n",
      "RU  Russia     Moscow\n",
      "IN   India  New Delhi\n",
      "CH   China    Beijing\n"
     ]
    }
   ],
   "source": [
    "print(brics.loc[[\"RU\",\"IN\",\"CH\"],[\"country\",\"capital\"]])\n",
    "print(\"--------------------------------------------------------------\")\n",
    "print(brics.iloc[[1,2,3],[0,1]])"
   ]
  },
  {
   "cell_type": "code",
   "execution_count": 27,
   "id": "85a99c7d",
   "metadata": {
    "execution": {
     "iopub.execute_input": "2024-07-21T09:51:01.010586Z",
     "iopub.status.busy": "2024-07-21T09:51:01.010216Z",
     "iopub.status.idle": "2024-07-21T09:51:01.021665Z",
     "shell.execute_reply": "2024-07-21T09:51:01.020580Z"
    },
    "papermill": {
     "duration": 0.025751,
     "end_time": "2024-07-21T09:51:01.023939",
     "exception": false,
     "start_time": "2024-07-21T09:51:00.998188",
     "status": "completed"
    },
    "tags": []
   },
   "outputs": [
    {
     "name": "stdout",
     "output_type": "stream",
     "text": [
      "         country    capital\n",
      "BR        Brazil   Brasilia\n",
      "RU        Russia     Moscow\n",
      "IN         India  New Delhi\n",
      "CH         China    Beijing\n",
      "SA  South Africa   Pretoria\n",
      "----------------------------------------\n",
      "         country    capital\n",
      "BR        Brazil   Brasilia\n",
      "RU        Russia     Moscow\n",
      "IN         India  New Delhi\n",
      "CH         China    Beijing\n",
      "SA  South Africa   Pretoria\n"
     ]
    }
   ],
   "source": [
    "print(brics.loc[:,[\"country\",\"capital\"]])\n",
    "print(\"----------------------------------------\")\n",
    "print(brics.iloc[:,[0,1]])"
   ]
  }
 ],
 "metadata": {
  "kaggle": {
   "accelerator": "none",
   "dataSources": [
    {
     "datasetId": 5422618,
     "sourceId": 9001698,
     "sourceType": "datasetVersion"
    },
    {
     "datasetId": 5422659,
     "sourceId": 9001743,
     "sourceType": "datasetVersion"
    }
   ],
   "dockerImageVersionId": 30746,
   "isGpuEnabled": false,
   "isInternetEnabled": true,
   "language": "python",
   "sourceType": "notebook"
  },
  "kernelspec": {
   "display_name": "Python 3",
   "language": "python",
   "name": "python3"
  },
  "language_info": {
   "codemirror_mode": {
    "name": "ipython",
    "version": 3
   },
   "file_extension": ".py",
   "mimetype": "text/x-python",
   "name": "python",
   "nbconvert_exporter": "python",
   "pygments_lexer": "ipython3",
   "version": "3.10.13"
  },
  "papermill": {
   "default_parameters": {},
   "duration": 5.296319,
   "end_time": "2024-07-21T09:51:01.555111",
   "environment_variables": {},
   "exception": null,
   "input_path": "__notebook__.ipynb",
   "output_path": "__notebook__.ipynb",
   "parameters": {},
   "start_time": "2024-07-21T09:50:56.258792",
   "version": "2.5.0"
  }
 },
 "nbformat": 4,
 "nbformat_minor": 5
}
