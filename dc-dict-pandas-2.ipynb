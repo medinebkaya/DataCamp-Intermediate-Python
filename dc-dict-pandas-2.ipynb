{
 "cells": [
  {
   "cell_type": "code",
   "execution_count": 1,
   "id": "677ede2e",
   "metadata": {
    "_cell_guid": "b1076dfc-b9ad-4769-8c92-a6c4dae69d19",
    "_uuid": "8f2839f25d086af736a60e9eeb907d3b93b6e0e5",
    "execution": {
     "iopub.execute_input": "2024-07-21T11:45:57.956227Z",
     "iopub.status.busy": "2024-07-21T11:45:57.955268Z",
     "iopub.status.idle": "2024-07-21T11:45:58.701587Z",
     "shell.execute_reply": "2024-07-21T11:45:58.700329Z"
    },
    "papermill": {
     "duration": 0.754711,
     "end_time": "2024-07-21T11:45:58.704277",
     "exception": false,
     "start_time": "2024-07-21T11:45:57.949566",
     "status": "completed"
    },
    "tags": []
   },
   "outputs": [
    {
     "name": "stdout",
     "output_type": "stream",
     "text": [
      "/kaggle/input/carsdataset/cars.csv\n"
     ]
    }
   ],
   "source": [
    "import numpy as np # linear algebra\n",
    "import pandas as pd # data processing, CSV file I/O (e.g. pd.read_csv)\n",
    "import os\n",
    "for dirname, _, filenames in os.walk('/kaggle/input'):\n",
    "    for filename in filenames:\n",
    "        print(os.path.join(dirname, filename))"
   ]
  },
  {
   "cell_type": "markdown",
   "id": "286f0611",
   "metadata": {
    "papermill": {
     "duration": 0.002823,
     "end_time": "2024-07-21T11:45:58.710621",
     "exception": false,
     "start_time": "2024-07-21T11:45:58.707798",
     "status": "completed"
    },
    "tags": []
   },
   "source": [
    "# Square Brackets(1)"
   ]
  },
  {
   "cell_type": "code",
   "execution_count": 2,
   "id": "2d63252a",
   "metadata": {
    "execution": {
     "iopub.execute_input": "2024-07-21T11:45:58.718170Z",
     "iopub.status.busy": "2024-07-21T11:45:58.717697Z",
     "iopub.status.idle": "2024-07-21T11:45:58.749177Z",
     "shell.execute_reply": "2024-07-21T11:45:58.748227Z"
    },
    "papermill": {
     "duration": 0.037969,
     "end_time": "2024-07-21T11:45:58.751563",
     "exception": false,
     "start_time": "2024-07-21T11:45:58.713594",
     "status": "completed"
    },
    "tags": []
   },
   "outputs": [
    {
     "name": "stdout",
     "output_type": "stream",
     "text": [
      "US     United States\n",
      "AUS        Australia\n",
      "JAP            Japan\n",
      "IN             India\n",
      "RU            Russia\n",
      "MOR          Morocco\n",
      "EG             Egypt\n",
      "Name: country, dtype: object\n",
      "-------------------------------------\n",
      "           country\n",
      "US   United States\n",
      "AUS      Australia\n",
      "JAP          Japan\n",
      "IN           India\n",
      "RU          Russia\n",
      "MOR        Morocco\n",
      "EG           Egypt\n",
      "--------------------------------------\n",
      "           country  drives_right\n",
      "US   United States          True\n",
      "AUS      Australia         False\n",
      "JAP          Japan         False\n",
      "IN           India         False\n",
      "RU          Russia          True\n",
      "MOR        Morocco          True\n",
      "EG           Egypt          True\n"
     ]
    }
   ],
   "source": [
    "# Import cars data\n",
    "cars = pd.read_csv('/kaggle/input/carsdataset/cars.csv', index_col = 0)\n",
    "\n",
    "# Print out country column as Pandas Series\n",
    "print(cars[\"country\"])\n",
    "print(\"-------------------------------------\")\n",
    "# Print out country column as Pandas DataFrame\n",
    "print(cars[[\"country\"]])\n",
    "print(\"--------------------------------------\")\n",
    "# Print out DataFrame with country and drives_right columns\n",
    "print(cars[[\"country\",\"drives_right\"]])"
   ]
  },
  {
   "cell_type": "markdown",
   "id": "461cd9ae",
   "metadata": {
    "papermill": {
     "duration": 0.002906,
     "end_time": "2024-07-21T11:45:58.757764",
     "exception": false,
     "start_time": "2024-07-21T11:45:58.754858",
     "status": "completed"
    },
    "tags": []
   },
   "source": [
    "# Square Brackets(2)"
   ]
  },
  {
   "cell_type": "code",
   "execution_count": 3,
   "id": "4e69833a",
   "metadata": {
    "execution": {
     "iopub.execute_input": "2024-07-21T11:45:58.765585Z",
     "iopub.status.busy": "2024-07-21T11:45:58.764940Z",
     "iopub.status.idle": "2024-07-21T11:45:58.773648Z",
     "shell.execute_reply": "2024-07-21T11:45:58.772748Z"
    },
    "papermill": {
     "duration": 0.014861,
     "end_time": "2024-07-21T11:45:58.775786",
     "exception": false,
     "start_time": "2024-07-21T11:45:58.760925",
     "status": "completed"
    },
    "tags": []
   },
   "outputs": [
    {
     "name": "stdout",
     "output_type": "stream",
     "text": [
      "     cars_per_cap        country  drives_right\n",
      "US            809  United States          True\n",
      "AUS           731      Australia         False\n",
      "JAP           588          Japan         False\n",
      "-----------------------\n",
      "     cars_per_cap  country  drives_right\n",
      "IN             18    India         False\n",
      "RU            200   Russia          True\n",
      "MOR            70  Morocco          True\n"
     ]
    }
   ],
   "source": [
    "# Print out first 3 observations\n",
    "print(cars[0:3])\n",
    "print(\"-----------------------\")\n",
    "# Print out fourth, fifth and sixth observation\n",
    "print(cars[3:6])"
   ]
  },
  {
   "cell_type": "markdown",
   "id": "a360bdfc",
   "metadata": {
    "papermill": {
     "duration": 0.00296,
     "end_time": "2024-07-21T11:45:58.782063",
     "exception": false,
     "start_time": "2024-07-21T11:45:58.779103",
     "status": "completed"
    },
    "tags": []
   },
   "source": [
    "# loc and iloc (1)"
   ]
  },
  {
   "cell_type": "code",
   "execution_count": 4,
   "id": "08b67115",
   "metadata": {
    "execution": {
     "iopub.execute_input": "2024-07-21T11:45:58.790061Z",
     "iopub.status.busy": "2024-07-21T11:45:58.789294Z",
     "iopub.status.idle": "2024-07-21T11:45:58.800373Z",
     "shell.execute_reply": "2024-07-21T11:45:58.799429Z"
    },
    "papermill": {
     "duration": 0.017282,
     "end_time": "2024-07-21T11:45:58.802495",
     "exception": false,
     "start_time": "2024-07-21T11:45:58.785213",
     "status": "completed"
    },
    "tags": []
   },
   "outputs": [
    {
     "name": "stdout",
     "output_type": "stream",
     "text": [
      "     cars_per_cap country  drives_right\n",
      "JAP           588   Japan         False\n",
      "------------------------------------------------\n",
      "     cars_per_cap    country  drives_right\n",
      "AUS           731  Australia         False\n",
      "EG             45      Egypt          True\n"
     ]
    }
   ],
   "source": [
    "# Print out observation for Japan\n",
    "print(cars.loc[['JAP']])\n",
    "print(\"------------------------------------------------\")\n",
    "# Print out observations for Australia and Egypt\n",
    "print(cars.loc[[\"AUS\",\"EG\"]])"
   ]
  },
  {
   "cell_type": "markdown",
   "id": "04c733df",
   "metadata": {
    "papermill": {
     "duration": 0.003123,
     "end_time": "2024-07-21T11:45:58.809178",
     "exception": false,
     "start_time": "2024-07-21T11:45:58.806055",
     "status": "completed"
    },
    "tags": []
   },
   "source": [
    "# loc and iloc (2)"
   ]
  },
  {
   "cell_type": "code",
   "execution_count": 5,
   "id": "8e2482f6",
   "metadata": {
    "execution": {
     "iopub.execute_input": "2024-07-21T11:45:58.817196Z",
     "iopub.status.busy": "2024-07-21T11:45:58.816819Z",
     "iopub.status.idle": "2024-07-21T11:45:58.827394Z",
     "shell.execute_reply": "2024-07-21T11:45:58.826411Z"
    },
    "papermill": {
     "duration": 0.017394,
     "end_time": "2024-07-21T11:45:58.829858",
     "exception": false,
     "start_time": "2024-07-21T11:45:58.812464",
     "status": "completed"
    },
    "tags": []
   },
   "outputs": [
    {
     "name": "stdout",
     "output_type": "stream",
     "text": [
      "     drives_right\n",
      "MOR          True\n",
      "----------------------------------------------\n",
      "     country  drives_right\n",
      "RU    Russia          True\n",
      "MOR  Morocco          True\n"
     ]
    }
   ],
   "source": [
    "# Print out drives_right value of Morocco\n",
    "print(cars.loc[[\"MOR\"],[\"drives_right\"]])\n",
    "print(\"----------------------------------------------\")\n",
    "# Print sub-DataFrame\n",
    "print(cars.loc[[\"RU\",\"MOR\"],[\"country\", \"drives_right\"]])"
   ]
  },
  {
   "cell_type": "markdown",
   "id": "12a8b4c7",
   "metadata": {
    "papermill": {
     "duration": 0.003143,
     "end_time": "2024-07-21T11:45:58.836487",
     "exception": false,
     "start_time": "2024-07-21T11:45:58.833344",
     "status": "completed"
    },
    "tags": []
   },
   "source": [
    "# loc and iloc (3)"
   ]
  },
  {
   "cell_type": "code",
   "execution_count": 6,
   "id": "f46bc9a0",
   "metadata": {
    "execution": {
     "iopub.execute_input": "2024-07-21T11:45:58.844685Z",
     "iopub.status.busy": "2024-07-21T11:45:58.844339Z",
     "iopub.status.idle": "2024-07-21T11:45:58.856211Z",
     "shell.execute_reply": "2024-07-21T11:45:58.855276Z"
    },
    "papermill": {
     "duration": 0.018385,
     "end_time": "2024-07-21T11:45:58.858246",
     "exception": false,
     "start_time": "2024-07-21T11:45:58.839861",
     "status": "completed"
    },
    "tags": []
   },
   "outputs": [
    {
     "name": "stdout",
     "output_type": "stream",
     "text": [
      "US      True\n",
      "AUS    False\n",
      "JAP    False\n",
      "IN     False\n",
      "RU      True\n",
      "MOR     True\n",
      "EG      True\n",
      "Name: drives_right, dtype: bool\n",
      "----------------------------------------------\n",
      "     drives_right\n",
      "US           True\n",
      "AUS         False\n",
      "JAP         False\n",
      "IN          False\n",
      "RU           True\n",
      "MOR          True\n",
      "EG           True\n",
      "----------------------------------------------\n",
      "     cars_per_cap  drives_right\n",
      "US            809          True\n",
      "AUS           731         False\n",
      "JAP           588         False\n",
      "IN             18         False\n",
      "RU            200          True\n",
      "MOR            70          True\n",
      "EG             45          True\n"
     ]
    }
   ],
   "source": [
    "# Print out drives_right column as Series\n",
    "print(cars.loc[:,\"drives_right\"])\n",
    "print(\"----------------------------------------------\")\n",
    "# Print out drives_right column as DataFrame\n",
    "print(cars.loc[:,[\"drives_right\"]])\n",
    "print(\"----------------------------------------------\")\n",
    "# Print out cars_per_cap and drives_right as DataFrame\n",
    "print(cars.loc[:,[\"cars_per_cap\",\"drives_right\"]])"
   ]
  }
 ],
 "metadata": {
  "kaggle": {
   "accelerator": "none",
   "dataSources": [
    {
     "datasetId": 5422618,
     "sourceId": 9001698,
     "sourceType": "datasetVersion"
    }
   ],
   "dockerImageVersionId": 30746,
   "isGpuEnabled": false,
   "isInternetEnabled": true,
   "language": "python",
   "sourceType": "notebook"
  },
  "kernelspec": {
   "display_name": "Python 3",
   "language": "python",
   "name": "python3"
  },
  "language_info": {
   "codemirror_mode": {
    "name": "ipython",
    "version": 3
   },
   "file_extension": ".py",
   "mimetype": "text/x-python",
   "name": "python",
   "nbconvert_exporter": "python",
   "pygments_lexer": "ipython3",
   "version": "3.10.13"
  },
  "papermill": {
   "default_parameters": {},
   "duration": 3.905162,
   "end_time": "2024-07-21T11:45:59.281265",
   "environment_variables": {},
   "exception": null,
   "input_path": "__notebook__.ipynb",
   "output_path": "__notebook__.ipynb",
   "parameters": {},
   "start_time": "2024-07-21T11:45:55.376103",
   "version": "2.5.0"
  }
 },
 "nbformat": 4,
 "nbformat_minor": 5
}
