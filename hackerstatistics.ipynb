{
 "cells": [
  {
   "cell_type": "code",
   "execution_count": 1,
   "id": "eabf1291",
   "metadata": {
    "_cell_guid": "b1076dfc-b9ad-4769-8c92-a6c4dae69d19",
    "_uuid": "8f2839f25d086af736a60e9eeb907d3b93b6e0e5",
    "execution": {
     "iopub.execute_input": "2024-07-24T09:24:00.444457Z",
     "iopub.status.busy": "2024-07-24T09:24:00.443982Z",
     "iopub.status.idle": "2024-07-24T09:24:01.504884Z",
     "shell.execute_reply": "2024-07-24T09:24:01.503714Z"
    },
    "papermill": {
     "duration": 1.068622,
     "end_time": "2024-07-24T09:24:01.507791",
     "exception": false,
     "start_time": "2024-07-24T09:24:00.439169",
     "status": "completed"
    },
    "tags": []
   },
   "outputs": [],
   "source": [
    "import numpy as np # linear algebra\n",
    "import pandas as pd # data processing, CSV file I/O (e.g. pd.read_csv)\n",
    "import matplotlib.pyplot as plt\n",
    "import os\n",
    "for dirname, _, filenames in os.walk('/kaggle/input'):\n",
    "    for filename in filenames:\n",
    "        print(os.path.join(dirname, filename))"
   ]
  },
  {
   "cell_type": "markdown",
   "id": "3a6d1fb6",
   "metadata": {
    "papermill": {
     "duration": 0.002282,
     "end_time": "2024-07-24T09:24:01.512909",
     "exception": false,
     "start_time": "2024-07-24T09:24:01.510627",
     "status": "completed"
    },
    "tags": []
   },
   "source": [
    "Imagine the following: you're walking up the empire state building to DataCamp HeadQuarters and you're playing a game with a friend.\n",
    "You throw a die one hundred times.\n",
    "If it's 1 or 2 you'll go one step down.\n",
    "If it's 3, 4, or 5, you'll go one step up.\n",
    "If you throw a 6, you'll throw the die again and will walk up the resulting number of steps.\n",
    "Of course, you can not go lower than step number 0. And also, you admit that you're a bit clumsy and have a chance of 0.1% of falling down the stairs when you make a move. Falling down means that you have to start again from step 0. With all of this in mind, you bet with your friend that you'll reach 60 steps high.\n",
    "What is the chance that you will win this bet? It's a complex assignment. One way to solve it would be to calculate the chance analytically using equations. Another possible approach, is to simulate this process thousands of times, and see in what fraction of the simulations that you will reach 60 steps. This is a form of -hacker statistics-. As you can probably guess, we're going to opt for the second approach."
   ]
  },
  {
   "cell_type": "markdown",
   "id": "3408f3d9",
   "metadata": {
    "papermill": {
     "duration": 0.002165,
     "end_time": "2024-07-24T09:24:01.517623",
     "exception": false,
     "start_time": "2024-07-24T09:24:01.515458",
     "status": "completed"
    },
    "tags": []
   },
   "source": [
    "![Ekran görüntüsü 2024-07-24 121407](https://github.com/user-attachments/assets/e7fdbac3-b05e-4b75-a874-6e773ea390d0)"
   ]
  },
  {
   "cell_type": "code",
   "execution_count": 2,
   "id": "098d3613",
   "metadata": {
    "execution": {
     "iopub.execute_input": "2024-07-24T09:24:01.524256Z",
     "iopub.status.busy": "2024-07-24T09:24:01.523759Z",
     "iopub.status.idle": "2024-07-24T09:24:02.301689Z",
     "shell.execute_reply": "2024-07-24T09:24:02.300399Z"
    },
    "papermill": {
     "duration": 0.784464,
     "end_time": "2024-07-24T09:24:02.304507",
     "exception": false,
     "start_time": "2024-07-24T09:24:01.520043",
     "status": "completed"
    },
    "tags": []
   },
   "outputs": [
    {
     "data": {
      "image/png": "[encoded data removed]",
      "text/plain": [
       "<Figure size 640x480 with 1 Axes>"
      ]
     },
     "metadata": {},
     "output_type": "display_data"
    }
   ],
   "source": [
    "\n",
    "np.random.seed(123)\n",
    "\n",
    "# Simulate random walk 500 times\n",
    "all_walks = []\n",
    "for i in range(500) :\n",
    "    random_walk = [0]\n",
    "    for x in range(100) :\n",
    "        step = random_walk[-1]\n",
    "        dice = np.random.randint(1,7)\n",
    "        if dice <= 2:\n",
    "            step = max(0, step - 1)\n",
    "        elif dice <= 5:\n",
    "            step = step + 1\n",
    "        else:\n",
    "            step = step + np.random.randint(1,7)\n",
    "        if np.random.rand() <= 0.001 :\n",
    "            step = 0\n",
    "        random_walk.append(step)\n",
    "    all_walks.append(random_walk)\n",
    "\n",
    "# Create and plot np_aw_t\n",
    "np_aw_t = np.transpose(np.array(all_walks))\n",
    "\n",
    "# Select last row from np_aw_t: ends\n",
    "ends= np_aw_t[-1]\n",
    "\n",
    "# Plot histogram of ends, display plot\n",
    "plt.hist(ends)\n",
    "plt.show()"
   ]
  }
 ],
 "metadata": {
  "kaggle": {
   "accelerator": "none",
   "dataSources": [],
   "dockerImageVersionId": 30746,
   "isGpuEnabled": false,
   "isInternetEnabled": true,
   "language": "python",
   "sourceType": "notebook"
  },
  "kernelspec": {
   "display_name": "Python 3",
   "language": "python",
   "name": "python3"
  },
  "language_info": {
   "codemirror_mode": {
    "name": "ipython",
    "version": 3
   },
   "file_extension": ".py",
   "mimetype": "text/x-python",
   "name": "python",
   "nbconvert_exporter": "python",
   "pygments_lexer": "ipython3",
   "version": "3.10.13"
  },
  "papermill": {
   "default_parameters": {},
   "duration": 5.578444,
   "end_time": "2024-07-24T09:24:02.829076",
   "environment_variables": {},
   "exception": null,
   "input_path": "__notebook__.ipynb",
   "output_path": "__notebook__.ipynb",
   "parameters": {},
   "start_time": "2024-07-24T09:23:57.250632",
   "version": "2.5.0"
  }
 },
 "nbformat": 4,
 "nbformat_minor": 5
}
