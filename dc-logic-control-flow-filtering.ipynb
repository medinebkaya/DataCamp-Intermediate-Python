{
 "cells": [
  {
   "cell_type": "code",
   "execution_count": 1,
   "id": "2ef107ef",
   "metadata": {
    "_cell_guid": "b1076dfc-b9ad-4769-8c92-a6c4dae69d19",
    "_uuid": "8f2839f25d086af736a60e9eeb907d3b93b6e0e5",
    "execution": {
     "iopub.execute_input": "2024-07-22T14:51:18.323078Z",
     "iopub.status.busy": "2024-07-22T14:51:18.322319Z",
     "iopub.status.idle": "2024-07-22T14:51:19.165360Z",
     "shell.execute_reply": "2024-07-22T14:51:19.164130Z"
    },
    "papermill": {
     "duration": 0.851232,
     "end_time": "2024-07-22T14:51:19.168182",
     "exception": false,
     "start_time": "2024-07-22T14:51:18.316950",
     "status": "completed"
    },
    "tags": []
   },
   "outputs": [
    {
     "name": "stdout",
     "output_type": "stream",
     "text": [
      "/kaggle/input/carsdataset/cars.csv\n"
     ]
    }
   ],
   "source": [
    "import numpy as np # linear algebra\n",
    "import pandas as pd # data processing, CSV file I/O (e.g. pd.read_csv)\n",
    "import os\n",
    "for dirname, _, filenames in os.walk('/kaggle/input'):\n",
    "    for filename in filenames:\n",
    "        print(os.path.join(dirname, filename))"
   ]
  },
  {
   "cell_type": "markdown",
   "id": "8d3d3051",
   "metadata": {
    "papermill": {
     "duration": 0.002832,
     "end_time": "2024-07-22T14:51:19.174492",
     "exception": false,
     "start_time": "2024-07-22T14:51:19.171660",
     "status": "completed"
    },
    "tags": []
   },
   "source": [
    "# Compare Arrays"
   ]
  },
  {
   "cell_type": "code",
   "execution_count": 2,
   "id": "b852d4f4",
   "metadata": {
    "execution": {
     "iopub.execute_input": "2024-07-22T14:51:19.182798Z",
     "iopub.status.busy": "2024-07-22T14:51:19.181737Z",
     "iopub.status.idle": "2024-07-22T14:51:19.189370Z",
     "shell.execute_reply": "2024-07-22T14:51:19.188354Z"
    },
    "papermill": {
     "duration": 0.014236,
     "end_time": "2024-07-22T14:51:19.191669",
     "exception": false,
     "start_time": "2024-07-22T14:51:19.177433",
     "status": "completed"
    },
    "tags": []
   },
   "outputs": [
    {
     "name": "stdout",
     "output_type": "stream",
     "text": [
      "[ True  True False False]\n",
      "[False  True  True False]\n"
     ]
    }
   ],
   "source": [
    "# Create arrays\n",
    "my_house = np.array([18.0, 20.0, 10.75, 9.50])\n",
    "your_house = np.array([14.0, 24.0, 14.25, 9.0])\n",
    "\n",
    "# my_house greater than or equal to 18\n",
    "print(my_house>=18)\n",
    "\n",
    "# my_house less than your_house\n",
    "print(my_house<your_house)"
   ]
  },
  {
   "cell_type": "code",
   "execution_count": 3,
   "id": "f0a4a16c",
   "metadata": {
    "execution": {
     "iopub.execute_input": "2024-07-22T14:51:19.199566Z",
     "iopub.status.busy": "2024-07-22T14:51:19.199198Z",
     "iopub.status.idle": "2024-07-22T14:51:19.205205Z",
     "shell.execute_reply": "2024-07-22T14:51:19.204147Z"
    },
    "papermill": {
     "duration": 0.012692,
     "end_time": "2024-07-22T14:51:19.207608",
     "exception": false,
     "start_time": "2024-07-22T14:51:19.194916",
     "status": "completed"
    },
    "tags": []
   },
   "outputs": [
    {
     "name": "stdout",
     "output_type": "stream",
     "text": [
      "False\n",
      "True\n",
      "True\n"
     ]
    }
   ],
   "source": [
    "# Define variables\n",
    "my_kitchen = 18.0\n",
    "your_kitchen = 14.0\n",
    "\n",
    "# my_kitchen bigger than 10 and smaller than 18?\n",
    "print(my_kitchen > 10 and my_kitchen < 18)\n",
    "\n",
    "# my_kitchen smaller than 14 or bigger than 17?\n",
    "print(my_kitchen < 14 or my_kitchen > 17)\n",
    "\n",
    "# Double my_kitchen smaller than triple your_kitchen?\n",
    "print(my_kitchen * 2 < your_kitchen * 3)"
   ]
  },
  {
   "cell_type": "markdown",
   "id": "17b09611",
   "metadata": {
    "papermill": {
     "duration": 0.003132,
     "end_time": "2024-07-22T14:51:19.214250",
     "exception": false,
     "start_time": "2024-07-22T14:51:19.211118",
     "status": "completed"
    },
    "tags": []
   },
   "source": [
    "# Boolean Operators with NumPy"
   ]
  },
  {
   "cell_type": "code",
   "execution_count": 4,
   "id": "ab2d2a5a",
   "metadata": {
    "execution": {
     "iopub.execute_input": "2024-07-22T14:51:19.222603Z",
     "iopub.status.busy": "2024-07-22T14:51:19.222239Z",
     "iopub.status.idle": "2024-07-22T14:51:19.228933Z",
     "shell.execute_reply": "2024-07-22T14:51:19.227904Z"
    },
    "papermill": {
     "duration": 0.013731,
     "end_time": "2024-07-22T14:51:19.231509",
     "exception": false,
     "start_time": "2024-07-22T14:51:19.217778",
     "status": "completed"
    },
    "tags": []
   },
   "outputs": [
    {
     "name": "stdout",
     "output_type": "stream",
     "text": [
      "[False  True False  True]\n",
      "[False False False  True]\n"
     ]
    }
   ],
   "source": [
    "# Create arrays\n",
    "import numpy as np\n",
    "my_house = np.array([18.0, 20.0, 10.75, 9.50])\n",
    "your_house = np.array([14.0, 24.0, 14.25, 9.0])\n",
    "\n",
    "# my_house greater than 18.5 or smaller than 10\n",
    "print(np.logical_or(my_house>18.5, my_house<10))\n",
    "\n",
    "# Both my_house and your_house smaller than 11\n",
    "print(np.logical_and(my_house<11,your_house<11))"
   ]
  },
  {
   "cell_type": "markdown",
   "id": "ada09d4a",
   "metadata": {
    "papermill": {
     "duration": 0.003275,
     "end_time": "2024-07-22T14:51:19.238264",
     "exception": false,
     "start_time": "2024-07-22T14:51:19.234989",
     "status": "completed"
    },
    "tags": []
   },
   "source": [
    "# Filtering Pandas DataFrames"
   ]
  },
  {
   "cell_type": "code",
   "execution_count": 5,
   "id": "acd2eb4c",
   "metadata": {
    "execution": {
     "iopub.execute_input": "2024-07-22T14:51:19.246640Z",
     "iopub.status.busy": "2024-07-22T14:51:19.246262Z",
     "iopub.status.idle": "2024-07-22T14:51:19.275847Z",
     "shell.execute_reply": "2024-07-22T14:51:19.274530Z"
    },
    "papermill": {
     "duration": 0.036446,
     "end_time": "2024-07-22T14:51:19.278209",
     "exception": false,
     "start_time": "2024-07-22T14:51:19.241763",
     "status": "completed"
    },
    "tags": []
   },
   "outputs": [
    {
     "name": "stdout",
     "output_type": "stream",
     "text": [
      "     cars_per_cap        country  drives_right\n",
      "US            809  United States          True\n",
      "RU            200         Russia          True\n",
      "MOR            70        Morocco          True\n",
      "EG             45          Egypt          True\n"
     ]
    }
   ],
   "source": [
    "# Import cars data\n",
    "cars=pd.read_csv(\"/kaggle/input/carsdataset/cars.csv\", index_col=0)\n",
    "\n",
    "# Extract drives_right column as Series: dr\n",
    "dr=cars[\"drives_right\"]\n",
    "\n",
    "# Use dr to subset cars: sel\n",
    "sel=cars[dr]\n",
    "\n",
    "# Print sel\n",
    "print(sel)"
   ]
  },
  {
   "cell_type": "code",
   "execution_count": 6,
   "id": "a9dedecd",
   "metadata": {
    "execution": {
     "iopub.execute_input": "2024-07-22T14:51:19.287261Z",
     "iopub.status.busy": "2024-07-22T14:51:19.286568Z",
     "iopub.status.idle": "2024-07-22T14:51:19.294499Z",
     "shell.execute_reply": "2024-07-22T14:51:19.293402Z"
    },
    "papermill": {
     "duration": 0.01482,
     "end_time": "2024-07-22T14:51:19.296718",
     "exception": false,
     "start_time": "2024-07-22T14:51:19.281898",
     "status": "completed"
    },
    "tags": []
   },
   "outputs": [
    {
     "name": "stdout",
     "output_type": "stream",
     "text": [
      "     cars_per_cap        country  drives_right\n",
      "US            809  United States          True\n",
      "RU            200         Russia          True\n",
      "MOR            70        Morocco          True\n",
      "EG             45          Egypt          True\n"
     ]
    }
   ],
   "source": [
    "# Convert code to a one-liner\n",
    "sel = cars[cars['drives_right']]\n",
    "\n",
    "# Print sel\n",
    "print(sel)"
   ]
  },
  {
   "cell_type": "code",
   "execution_count": 7,
   "id": "79ce4faa",
   "metadata": {
    "execution": {
     "iopub.execute_input": "2024-07-22T14:51:19.305422Z",
     "iopub.status.busy": "2024-07-22T14:51:19.305088Z",
     "iopub.status.idle": "2024-07-22T14:51:19.313731Z",
     "shell.execute_reply": "2024-07-22T14:51:19.312581Z"
    },
    "papermill": {
     "duration": 0.015522,
     "end_time": "2024-07-22T14:51:19.315892",
     "exception": false,
     "start_time": "2024-07-22T14:51:19.300370",
     "status": "completed"
    },
    "tags": []
   },
   "outputs": [
    {
     "name": "stdout",
     "output_type": "stream",
     "text": [
      "     cars_per_cap        country  drives_right\n",
      "US            809  United States          True\n",
      "AUS           731      Australia         False\n",
      "JAP           588          Japan         False\n"
     ]
    }
   ],
   "source": [
    "# Create car_maniac: observations that have a cars_per_cap over 500\n",
    "cpc=cars[\"cars_per_cap\"]\n",
    "car_maniac=cars[cpc>500]\n",
    "\n",
    "# Print car_maniac\n",
    "print(car_maniac)"
   ]
  },
  {
   "cell_type": "code",
   "execution_count": 8,
   "id": "e1fd8190",
   "metadata": {
    "execution": {
     "iopub.execute_input": "2024-07-22T14:51:19.325891Z",
     "iopub.status.busy": "2024-07-22T14:51:19.325514Z",
     "iopub.status.idle": "2024-07-22T14:51:19.334117Z",
     "shell.execute_reply": "2024-07-22T14:51:19.333067Z"
    },
    "papermill": {
     "duration": 0.016607,
     "end_time": "2024-07-22T14:51:19.336667",
     "exception": false,
     "start_time": "2024-07-22T14:51:19.320060",
     "status": "completed"
    },
    "tags": []
   },
   "outputs": [
    {
     "name": "stdout",
     "output_type": "stream",
     "text": [
      "    cars_per_cap country  drives_right\n",
      "RU           200  Russia          True\n"
     ]
    }
   ],
   "source": [
    "# Create medium: observations with cars_per_cap between 100 and 500\n",
    "cpc=cars[\"cars_per_cap\"]\n",
    "between=np.logical_and(cpc>100, cpc<500)\n",
    "medium=cars[between]\n",
    "\n",
    "# Print medium\n",
    "print(medium)"
   ]
  }
 ],
 "metadata": {
  "kaggle": {
   "accelerator": "none",
   "dataSources": [
    {
     "datasetId": 5422618,
     "sourceId": 9001698,
     "sourceType": "datasetVersion"
    }
   ],
   "dockerImageVersionId": 30746,
   "isGpuEnabled": false,
   "isInternetEnabled": true,
   "language": "python",
   "sourceType": "notebook"
  },
  "kernelspec": {
   "display_name": "Python 3",
   "language": "python",
   "name": "python3"
  },
  "language_info": {
   "codemirror_mode": {
    "name": "ipython",
    "version": 3
   },
   "file_extension": ".py",
   "mimetype": "text/x-python",
   "name": "python",
   "nbconvert_exporter": "python",
   "pygments_lexer": "ipython3",
   "version": "3.10.13"
  },
  "papermill": {
   "default_parameters": {},
   "duration": 4.087591,
   "end_time": "2024-07-22T14:51:19.759784",
   "environment_variables": {},
   "exception": null,
   "input_path": "__notebook__.ipynb",
   "output_path": "__notebook__.ipynb",
   "parameters": {},
   "start_time": "2024-07-22T14:51:15.672193",
   "version": "2.5.0"
  }
 },
 "nbformat": 4,
 "nbformat_minor": 5
}
