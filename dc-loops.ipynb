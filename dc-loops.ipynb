{
 "cells": [
  {
   "cell_type": "code",
   "execution_count": 1,
   "id": "e7378715",
   "metadata": {
    "_cell_guid": "b1076dfc-b9ad-4769-8c92-a6c4dae69d19",
    "_uuid": "8f2839f25d086af736a60e9eeb907d3b93b6e0e5",
    "execution": {
     "iopub.execute_input": "2024-07-22T14:49:38.023341Z",
     "iopub.status.busy": "2024-07-22T14:49:38.022876Z",
     "iopub.status.idle": "2024-07-22T14:49:38.948291Z",
     "shell.execute_reply": "2024-07-22T14:49:38.947063Z"
    },
    "papermill": {
     "duration": 0.936488,
     "end_time": "2024-07-22T14:49:38.951637",
     "exception": false,
     "start_time": "2024-07-22T14:49:38.015149",
     "status": "completed"
    },
    "tags": []
   },
   "outputs": [
    {
     "name": "stdout",
     "output_type": "stream",
     "text": [
      "/kaggle/input/carsdataset/cars.csv\n"
     ]
    }
   ],
   "source": [
    "import numpy as np # linear algebra\n",
    "import pandas as pd # data processing, CSV file I/O (e.g. pd.read_csv)\n",
    "import os\n",
    "for dirname, _, filenames in os.walk('/kaggle/input'):\n",
    "    for filename in filenames:\n",
    "        print(os.path.join(dirname, filename))"
   ]
  },
  {
   "cell_type": "markdown",
   "id": "6aa3e7a6",
   "metadata": {
    "papermill": {
     "duration": 0.004905,
     "end_time": "2024-07-22T14:49:38.962546",
     "exception": false,
     "start_time": "2024-07-22T14:49:38.957641",
     "status": "completed"
    },
    "tags": []
   },
   "source": [
    "# Enumerate"
   ]
  },
  {
   "cell_type": "code",
   "execution_count": 2,
   "id": "215c4be0",
   "metadata": {
    "execution": {
     "iopub.execute_input": "2024-07-22T14:49:38.974748Z",
     "iopub.status.busy": "2024-07-22T14:49:38.973661Z",
     "iopub.status.idle": "2024-07-22T14:49:38.979984Z",
     "shell.execute_reply": "2024-07-22T14:49:38.978841Z"
    },
    "papermill": {
     "duration": 0.015452,
     "end_time": "2024-07-22T14:49:38.982667",
     "exception": false,
     "start_time": "2024-07-22T14:49:38.967215",
     "status": "completed"
    },
    "tags": []
   },
   "outputs": [
    {
     "name": "stdout",
     "output_type": "stream",
     "text": [
      "index0:1.73\n",
      "index1:1.68\n",
      "index2:1.71\n",
      "index3:1.89\n"
     ]
    }
   ],
   "source": [
    "fam= [1.73, 1.68, 1.71, 1.89]\n",
    "for index, height in enumerate(fam):\n",
    "    print(\"index\"+ str(index)+ \":\"+ str(height))"
   ]
  },
  {
   "cell_type": "code",
   "execution_count": 3,
   "id": "31098910",
   "metadata": {
    "execution": {
     "iopub.execute_input": "2024-07-22T14:49:38.994757Z",
     "iopub.status.busy": "2024-07-22T14:49:38.993739Z",
     "iopub.status.idle": "2024-07-22T14:49:39.000252Z",
     "shell.execute_reply": "2024-07-22T14:49:38.999053Z"
    },
    "papermill": {
     "duration": 0.015385,
     "end_time": "2024-07-22T14:49:39.002970",
     "exception": false,
     "start_time": "2024-07-22T14:49:38.987585",
     "status": "completed"
    },
    "tags": []
   },
   "outputs": [
    {
     "name": "stdout",
     "output_type": "stream",
     "text": [
      "F\n",
      "A\n",
      "M\n",
      "I\n",
      "L\n",
      "Y\n"
     ]
    }
   ],
   "source": [
    "for c in \"family\":\n",
    "    print(c.capitalize())"
   ]
  },
  {
   "cell_type": "code",
   "execution_count": 4,
   "id": "1330f463",
   "metadata": {
    "execution": {
     "iopub.execute_input": "2024-07-22T14:49:39.014753Z",
     "iopub.status.busy": "2024-07-22T14:49:39.014378Z",
     "iopub.status.idle": "2024-07-22T14:49:39.021044Z",
     "shell.execute_reply": "2024-07-22T14:49:39.019407Z"
    },
    "papermill": {
     "duration": 0.015832,
     "end_time": "2024-07-22T14:49:39.024007",
     "exception": false,
     "start_time": "2024-07-22T14:49:39.008175",
     "status": "completed"
    },
    "tags": []
   },
   "outputs": [
    {
     "name": "stdout",
     "output_type": "stream",
     "text": [
      "room 0: 11.25\n",
      "room 1: 18.0\n",
      "room 2: 20.0\n",
      "room 3: 10.75\n",
      "room 4: 9.5\n"
     ]
    }
   ],
   "source": [
    "# areas list\n",
    "areas = [11.25, 18.0, 20.0, 10.75, 9.50]\n",
    "\n",
    "for index,a in enumerate(areas) :\n",
    "    print(\"room {}: {}\".format(index, a))"
   ]
  },
  {
   "cell_type": "code",
   "execution_count": 5,
   "id": "0a71953c",
   "metadata": {
    "execution": {
     "iopub.execute_input": "2024-07-22T14:49:39.035966Z",
     "iopub.status.busy": "2024-07-22T14:49:39.035573Z",
     "iopub.status.idle": "2024-07-22T14:49:39.042504Z",
     "shell.execute_reply": "2024-07-22T14:49:39.041321Z"
    },
    "papermill": {
     "duration": 0.016172,
     "end_time": "2024-07-22T14:49:39.045419",
     "exception": false,
     "start_time": "2024-07-22T14:49:39.029247",
     "status": "completed"
    },
    "tags": []
   },
   "outputs": [
    {
     "name": "stdout",
     "output_type": "stream",
     "text": [
      "the hallway is 11.25 sqm\n",
      "the kitchen is 18.0 sqm\n",
      "the living room is 20.0 sqm\n",
      "the bedroom is 10.75 sqm\n",
      "the bathroom is 9.5 sqm\n"
     ]
    }
   ],
   "source": [
    "# house list of lists\n",
    "house = [[\"hallway\", 11.25], \n",
    "         [\"kitchen\", 18.0], \n",
    "         [\"living room\", 20.0], \n",
    "         [\"bedroom\", 10.75], \n",
    "         [\"bathroom\", 9.50]]\n",
    "         \n",
    "# Build a for loop from scratch\n",
    "for room in house:\n",
    "    print(\"the \"+ room[0]+ \" is \"+ str(room[1])+ \" sqm\")"
   ]
  },
  {
   "cell_type": "code",
   "execution_count": 6,
   "id": "bde3d0d1",
   "metadata": {
    "execution": {
     "iopub.execute_input": "2024-07-22T14:49:39.057464Z",
     "iopub.status.busy": "2024-07-22T14:49:39.057084Z",
     "iopub.status.idle": "2024-07-22T14:49:39.063473Z",
     "shell.execute_reply": "2024-07-22T14:49:39.062266Z"
    },
    "papermill": {
     "duration": 0.015767,
     "end_time": "2024-07-22T14:49:39.066420",
     "exception": false,
     "start_time": "2024-07-22T14:49:39.050653",
     "status": "completed"
    },
    "tags": []
   },
   "outputs": [
    {
     "name": "stdout",
     "output_type": "stream",
     "text": [
      "the capital of spain is madrid\n",
      "the capital of france is paris\n",
      "the capital of germany is berlin\n",
      "the capital of norway is oslo\n",
      "the capital of italy is rome\n",
      "the capital of poland is warsaw\n",
      "the capital of austria is vienna\n"
     ]
    }
   ],
   "source": [
    "# Definition of dictionary\n",
    "europe = {'spain':'madrid', 'france':'paris', 'germany':'berlin',\n",
    "          'norway':'oslo', 'italy':'rome', 'poland':'warsaw', 'austria':'vienna' }\n",
    "          \n",
    "# Iterate over europe\n",
    "for key,value in europe.items():\n",
    "    print(\"the capital of \"+ key + \" is \"+ value)"
   ]
  },
  {
   "cell_type": "code",
   "execution_count": 7,
   "id": "1b6edb3d",
   "metadata": {
    "execution": {
     "iopub.execute_input": "2024-07-22T14:49:39.078845Z",
     "iopub.status.busy": "2024-07-22T14:49:39.078455Z",
     "iopub.status.idle": "2024-07-22T14:49:39.084840Z",
     "shell.execute_reply": "2024-07-22T14:49:39.083704Z"
    },
    "papermill": {
     "duration": 0.015633,
     "end_time": "2024-07-22T14:49:39.087458",
     "exception": false,
     "start_time": "2024-07-22T14:49:39.071825",
     "status": "completed"
    },
    "tags": []
   },
   "outputs": [
    {
     "name": "stdout",
     "output_type": "stream",
     "text": [
      "1\n",
      "2\n",
      "3\n",
      "4\n",
      "5\n",
      "6\n",
      "7\n",
      "8\n",
      "9\n"
     ]
    }
   ],
   "source": [
    "# Create a 3x3 NumPy array\n",
    "arr = np.array([[1, 2, 3],\n",
    "                [4, 5, 6],\n",
    "                [7, 8, 9]])\n",
    "\n",
    "# Iterate over each element in the array using np.nditer\n",
    "for element in np.nditer(arr):\n",
    "    print(element)"
   ]
  },
  {
   "cell_type": "markdown",
   "id": "3400e484",
   "metadata": {
    "papermill": {
     "duration": 0.004803,
     "end_time": "2024-07-22T14:49:39.097345",
     "exception": false,
     "start_time": "2024-07-22T14:49:39.092542",
     "status": "completed"
    },
    "tags": []
   },
   "source": [
    "# Loop Over DataFrame(1)"
   ]
  },
  {
   "cell_type": "code",
   "execution_count": 8,
   "id": "8f2e56dd",
   "metadata": {
    "execution": {
     "iopub.execute_input": "2024-07-22T14:49:39.109163Z",
     "iopub.status.busy": "2024-07-22T14:49:39.108689Z",
     "iopub.status.idle": "2024-07-22T14:49:39.135647Z",
     "shell.execute_reply": "2024-07-22T14:49:39.134468Z"
    },
    "papermill": {
     "duration": 0.03594,
     "end_time": "2024-07-22T14:49:39.138261",
     "exception": false,
     "start_time": "2024-07-22T14:49:39.102321",
     "status": "completed"
    },
    "tags": []
   },
   "outputs": [],
   "source": [
    "cars=pd.read_csv(\"/kaggle/input/carsdataset/cars.csv\", index_col=0)\n"
   ]
  },
  {
   "cell_type": "code",
   "execution_count": 9,
   "id": "e7cfd009",
   "metadata": {
    "execution": {
     "iopub.execute_input": "2024-07-22T14:49:39.151034Z",
     "iopub.status.busy": "2024-07-22T14:49:39.150560Z",
     "iopub.status.idle": "2024-07-22T14:49:39.162572Z",
     "shell.execute_reply": "2024-07-22T14:49:39.161249Z"
    },
    "papermill": {
     "duration": 0.022255,
     "end_time": "2024-07-22T14:49:39.165981",
     "exception": false,
     "start_time": "2024-07-22T14:49:39.143726",
     "status": "completed"
    },
    "tags": []
   },
   "outputs": [
    {
     "name": "stdout",
     "output_type": "stream",
     "text": [
      "US\n",
      "cars_per_cap              809\n",
      "country         United States\n",
      "drives_right             True\n",
      "Name: US, dtype: object\n",
      "AUS\n",
      "cars_per_cap          731\n",
      "country         Australia\n",
      "drives_right        False\n",
      "Name: AUS, dtype: object\n",
      "JAP\n",
      "cars_per_cap      588\n",
      "country         Japan\n",
      "drives_right    False\n",
      "Name: JAP, dtype: object\n",
      "IN\n",
      "cars_per_cap       18\n",
      "country         India\n",
      "drives_right    False\n",
      "Name: IN, dtype: object\n",
      "RU\n",
      "cars_per_cap       200\n",
      "country         Russia\n",
      "drives_right      True\n",
      "Name: RU, dtype: object\n",
      "MOR\n",
      "cars_per_cap         70\n",
      "country         Morocco\n",
      "drives_right       True\n",
      "Name: MOR, dtype: object\n",
      "EG\n",
      "cars_per_cap       45\n",
      "country         Egypt\n",
      "drives_right     True\n",
      "Name: EG, dtype: object\n"
     ]
    }
   ],
   "source": [
    "# Iterate over rows of cars\n",
    "for lab,row in cars.iterrows():\n",
    "    print(lab)\n",
    "    print(row)"
   ]
  },
  {
   "cell_type": "markdown",
   "id": "f4831721",
   "metadata": {
    "papermill": {
     "duration": 0.006546,
     "end_time": "2024-07-22T14:49:39.180656",
     "exception": false,
     "start_time": "2024-07-22T14:49:39.174110",
     "status": "completed"
    },
    "tags": []
   },
   "source": [
    "# Loop Over DataFrame(2)"
   ]
  },
  {
   "cell_type": "code",
   "execution_count": 10,
   "id": "868bfe2c",
   "metadata": {
    "execution": {
     "iopub.execute_input": "2024-07-22T14:49:39.194494Z",
     "iopub.status.busy": "2024-07-22T14:49:39.194126Z",
     "iopub.status.idle": "2024-07-22T14:49:39.200967Z",
     "shell.execute_reply": "2024-07-22T14:49:39.199721Z"
    },
    "papermill": {
     "duration": 0.015844,
     "end_time": "2024-07-22T14:49:39.203290",
     "exception": false,
     "start_time": "2024-07-22T14:49:39.187446",
     "status": "completed"
    },
    "tags": []
   },
   "outputs": [
    {
     "name": "stdout",
     "output_type": "stream",
     "text": [
      "US: 809\n",
      "AUS: 731\n",
      "JAP: 588\n",
      "IN: 18\n",
      "RU: 200\n",
      "MOR: 70\n",
      "EG: 45\n"
     ]
    }
   ],
   "source": [
    "# Adapt for loop\n",
    "for lab, row in cars.iterrows() :\n",
    "    print(lab + \": \" + str(row['cars_per_cap']))"
   ]
  },
  {
   "cell_type": "markdown",
   "id": "168dad89",
   "metadata": {
    "papermill": {
     "duration": 0.005171,
     "end_time": "2024-07-22T14:49:39.213921",
     "exception": false,
     "start_time": "2024-07-22T14:49:39.208750",
     "status": "completed"
    },
    "tags": []
   },
   "source": [
    "# Add Column (1)"
   ]
  },
  {
   "cell_type": "markdown",
   "id": "228038ec",
   "metadata": {
    "papermill": {
     "duration": 0.005461,
     "end_time": "2024-07-22T14:49:39.224703",
     "exception": false,
     "start_time": "2024-07-22T14:49:39.219242",
     "status": "completed"
    },
    "tags": []
   },
   "source": [
    " Use a for loop to add a new column, named COUNTRY, that contains a uppercase version of the country names in the \"country\" column. You can use the string method upper() for this.\n",
    "To see if your code worked, print out cars. Don't indent this code, so that it's not part of the for loop.Use a for loop to add a new column, named COUNTRY, that contains a uppercase version of the country names in the \"country\" column. You can use the string method upper() for this.\n",
    "To see if your code worked, print out cars. Don't indent this code, so that it's not part of the for loop."
   ]
  },
  {
   "cell_type": "code",
   "execution_count": 11,
   "id": "8901b786",
   "metadata": {
    "execution": {
     "iopub.execute_input": "2024-07-22T14:49:39.237667Z",
     "iopub.status.busy": "2024-07-22T14:49:39.237230Z",
     "iopub.status.idle": "2024-07-22T14:49:39.254883Z",
     "shell.execute_reply": "2024-07-22T14:49:39.253713Z"
    },
    "papermill": {
     "duration": 0.027126,
     "end_time": "2024-07-22T14:49:39.257253",
     "exception": false,
     "start_time": "2024-07-22T14:49:39.230127",
     "status": "completed"
    },
    "tags": []
   },
   "outputs": [
    {
     "name": "stdout",
     "output_type": "stream",
     "text": [
      "     cars_per_cap        country  drives_right        COUNTRY\n",
      "US            809  United States          True  UNITED STATES\n",
      "AUS           731      Australia         False      AUSTRALIA\n",
      "JAP           588          Japan         False          JAPAN\n",
      "IN             18          India         False          INDIA\n",
      "RU            200         Russia          True         RUSSIA\n",
      "MOR            70        Morocco          True        MOROCCO\n",
      "EG             45          Egypt          True          EGYPT\n"
     ]
    }
   ],
   "source": [
    "# Code for loop that adds COUNTRY column\n",
    "for lab,row in cars.iterrows():\n",
    "    cars.loc[lab, \"COUNTRY\"]= row[\"country\"].upper()\n",
    "# Print cars\n",
    "print(cars)"
   ]
  },
  {
   "cell_type": "markdown",
   "id": "95cc2fca",
   "metadata": {
    "papermill": {
     "duration": 0.005446,
     "end_time": "2024-07-22T14:49:39.269330",
     "exception": false,
     "start_time": "2024-07-22T14:49:39.263884",
     "status": "completed"
    },
    "tags": []
   },
   "source": [
    "# Add Column (2)"
   ]
  },
  {
   "cell_type": "markdown",
   "id": "137c7e95",
   "metadata": {
    "papermill": {
     "duration": 0.0054,
     "end_time": "2024-07-22T14:49:39.280143",
     "exception": false,
     "start_time": "2024-07-22T14:49:39.274743",
     "status": "completed"
    },
    "tags": []
   },
   "source": [
    "Using iterrows() to iterate over every observation of a Pandas DataFrame is easy to understand, but not very efficient. On every iteration, you're creating a new Pandas Series.\n",
    "\n",
    "If you want to add a column to a DataFrame by calling a function on another column, the iterrows() method in combination with a for loop is not the preferred way to go. Instead, you'll want to use apply().Using iterrows() to iterate over every observation of a Pandas DataFrame is easy to understand, but not very efficient. On every iteration, you're creating a new Pandas Series.\n",
    "\n",
    "If you want to add a column to a DataFrame by calling a function on another column, the iterrows() method in combination with a for loop is not the preferred way to go. Instead, you'll want to use **apply().**"
   ]
  },
  {
   "cell_type": "code",
   "execution_count": 12,
   "id": "1534ef4f",
   "metadata": {
    "execution": {
     "iopub.execute_input": "2024-07-22T14:49:39.293989Z",
     "iopub.status.busy": "2024-07-22T14:49:39.293589Z",
     "iopub.status.idle": "2024-07-22T14:49:39.302109Z",
     "shell.execute_reply": "2024-07-22T14:49:39.301013Z"
    },
    "papermill": {
     "duration": 0.01913,
     "end_time": "2024-07-22T14:49:39.304944",
     "exception": false,
     "start_time": "2024-07-22T14:49:39.285814",
     "status": "completed"
    },
    "tags": []
   },
   "outputs": [
    {
     "name": "stdout",
     "output_type": "stream",
     "text": [
      "     cars_per_cap        country  drives_right        COUNTRY\n",
      "US            809  United States          True  UNITED STATES\n",
      "AUS           731      Australia         False      AUSTRALIA\n",
      "JAP           588          Japan         False          JAPAN\n",
      "IN             18          India         False          INDIA\n",
      "RU            200         Russia          True         RUSSIA\n",
      "MOR            70        Morocco          True        MOROCCO\n",
      "EG             45          Egypt          True          EGYPT\n"
     ]
    }
   ],
   "source": [
    "# Use .apply(str.upper)\n",
    "cars[\"COUNTRY\"]=cars[\"country\"].apply(str.upper)\n",
    "print(cars)"
   ]
  }
 ],
 "metadata": {
  "kaggle": {
   "accelerator": "none",
   "dataSources": [
    {
     "datasetId": 5422618,
     "sourceId": 9001698,
     "sourceType": "datasetVersion"
    }
   ],
   "dockerImageVersionId": 30746,
   "isGpuEnabled": false,
   "isInternetEnabled": true,
   "language": "python",
   "sourceType": "notebook"
  },
  "kernelspec": {
   "display_name": "Python 3",
   "language": "python",
   "name": "python3"
  },
  "language_info": {
   "codemirror_mode": {
    "name": "ipython",
    "version": 3
   },
   "file_extension": ".py",
   "mimetype": "text/x-python",
   "name": "python",
   "nbconvert_exporter": "python",
   "pygments_lexer": "ipython3",
   "version": "3.10.13"
  },
  "papermill": {
   "default_parameters": {},
   "duration": 4.662275,
   "end_time": "2024-07-22T14:49:39.832331",
   "environment_variables": {},
   "exception": null,
   "input_path": "__notebook__.ipynb",
   "output_path": "__notebook__.ipynb",
   "parameters": {},
   "start_time": "2024-07-22T14:49:35.170056",
   "version": "2.5.0"
  }
 },
 "nbformat": 4,
 "nbformat_minor": 5
}
